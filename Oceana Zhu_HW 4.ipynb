{
 "cells": [
  {
   "cell_type": "markdown",
   "id": "2ef2717d",
   "metadata": {},
   "source": [
    "# Part 0\n",
    "Oceana Zhu, oz2060"
   ]
  },
  {
   "cell_type": "markdown",
   "id": "4369ed94",
   "metadata": {},
   "source": [
    "# Part 1"
   ]
  },
  {
   "cell_type": "code",
   "execution_count": 3,
   "id": "cd24cc6c",
   "metadata": {},
   "outputs": [],
   "source": [
    "import pandas as pd\n",
    "import numpy as np\n",
    "from sklearn.model_selection import train_test_split\n",
    "from sklearn.neighbors import KNeighborsClassifier\n",
    "from sklearn.linear_model import LogisticRegression\n",
    "from sklearn.metrics import accuracy_score, precision_score, recall_score, f1_score"
   ]
  },
  {
   "cell_type": "code",
   "execution_count": 4,
   "id": "4dd8990f",
   "metadata": {},
   "outputs": [],
   "source": [
    "#Question 1\n",
    "def predict_tumor_class(normal_nucleoli, cell_size):\n",
    "    if normal_nucleoli > 3:\n",
    "        predicted_class = 1\n",
    "    elif normal_nucleoli <= 3 and cell_size < 3: \n",
    "        predicted_class = 1\n",
    "    else:\n",
    "        predicted_class = 0\n",
    "    return predicted_class"
   ]
  },
  {
   "cell_type": "code",
   "execution_count": 5,
   "id": "e7b652d8",
   "metadata": {},
   "outputs": [
    {
     "data": {
      "text/plain": [
       "1"
      ]
     },
     "execution_count": 5,
     "metadata": {},
     "output_type": "execute_result"
    }
   ],
   "source": [
    "#Question 2\n",
    "normal_nucleoli = 4\n",
    "cell_size = 4\n",
    "predict_tumor_class(normal_nucleoli, cell_size)"
   ]
  },
  {
   "cell_type": "code",
   "execution_count": 6,
   "id": "3d0c24fa",
   "metadata": {},
   "outputs": [
    {
     "data": {
      "text/plain": [
       "0"
      ]
     },
     "execution_count": 6,
     "metadata": {},
     "output_type": "execute_result"
    }
   ],
   "source": [
    "normal_nucleoli = 1\n",
    "cell_size = 5\n",
    "predict_tumor_class(normal_nucleoli, cell_size)"
   ]
  },
  {
   "cell_type": "code",
   "execution_count": 7,
   "id": "ff5fe8a7",
   "metadata": {},
   "outputs": [],
   "source": [
    "#The function works!"
   ]
  },
  {
   "cell_type": "code",
   "execution_count": 8,
   "id": "202c6911",
   "metadata": {},
   "outputs": [],
   "source": [
    "#Question 3\n",
    "cancer = pd.read_csv('shared/datasets/cancer.csv')\n",
    "\n",
    "X = cancer.drop('Class', axis=1)\n",
    "y = cancer['Class']\n",
    "X_train, X_test, y_train, y_test = train_test_split(X, y, test_size=0.2, random_state=1)\n",
    "\n",
    "predictions = pd.DataFrame(columns=['y_predicted', 'y_actual', 'error', 'tp', 'fp', 'tn', 'fn'])"
   ]
  },
  {
   "cell_type": "code",
   "execution_count": 9,
   "id": "d38bb269",
   "metadata": {},
   "outputs": [],
   "source": [
    "#Question 4\n",
    "for i in range(len(X_test)):\n",
    "    normal_nucleoli = X_test.iloc[i]['Normal Nucleoli']\n",
    "    cell_size = X_test.iloc[i]['Uniformity of Cell Size']\n",
    "    \n",
    "    predicted_class = predict_tumor_class(normal_nucleoli, cell_size)\n",
    "    \n",
    "    predicted_df = pd.DataFrame({'y_predicted': [predicted_class]})\n",
    "    \n",
    "    predictions = pd.concat([predictions, predicted_df], ignore_index=True)\n",
    "    \n",
    "    predictions.at[i, 'y_actual'] = y_test.iloc[i]\n",
    "    \n",
    "    actual_class = y_test.iloc[i]\n",
    "  \n",
    "    if predicted_class == actual_class:\n",
    "        predictions.at[i, 'error'] = 0\n",
    "        if actual_class == 1:\n",
    "            predictions.at[i, 'tp'] = 1\n",
    "            predictions.at[i, 'fp'] = 0\n",
    "            predictions.at[i, 'tn'] = 0\n",
    "            predictions.at[i, 'fn'] = 0\n",
    "        else:\n",
    "            predictions.at[i, 'tp'] = 0\n",
    "            predictions.at[i, 'fp'] = 0\n",
    "            predictions.at[i, 'tn'] = 1\n",
    "            predictions.at[i, 'fn'] = 0\n",
    "    else:\n",
    "        predictions.at[i, 'error'] = 1\n",
    "        if predicted_class == 1 and actual_class == 0:\n",
    "            predictions.at[i, 'tp'] = 0\n",
    "            predictions.at[i, 'fp'] = 1\n",
    "            predictions.at[i, 'tn'] = 0\n",
    "            predictions.at[i, 'fn'] = 0\n",
    "        else:\n",
    "            predictions.at[i, 'tp'] = 0\n",
    "            predictions.at[i, 'fp'] = 0\n",
    "            predictions.at[i, 'tn'] = 0\n",
    "            predictions.at[i, 'fn'] = 1"
   ]
  },
  {
   "cell_type": "code",
   "execution_count": 10,
   "id": "ceb84d2d",
   "metadata": {
    "scrolled": true
   },
   "outputs": [
    {
     "name": "stdout",
     "output_type": "stream",
     "text": [
      "27.73722627737226\n"
     ]
    }
   ],
   "source": [
    "#Question 5\n",
    "correct_predictions = len(predictions[predictions['y_predicted'] == predictions['y_actual']])\n",
    "accuracy = correct_predictions / len(predictions) * 100\n",
    "print(accuracy)"
   ]
  },
  {
   "cell_type": "code",
   "execution_count": 11,
   "id": "70530f9a",
   "metadata": {},
   "outputs": [],
   "source": [
    "# I don't think that my classifier is very good because the accuracy score is only 27.73722627737226%. I think that the performance of my classifer could be improved with the incluson of more branches in my decision tree, which would allow the decision tree predictions to account for other factors that would influence tumor class. "
   ]
  },
  {
   "cell_type": "code",
   "execution_count": 12,
   "id": "054eca58",
   "metadata": {},
   "outputs": [
    {
     "name": "stdout",
     "output_type": "stream",
     "text": [
      "Accuracy: 27.73722627737226\n",
      "Precision: 0.2719298245614035\n",
      "True Positive Rate: 0.6595744680851063\n",
      "True Negative Rate: 0.07777777777777778\n"
     ]
    }
   ],
   "source": [
    "#Question 6\n",
    "precision = predictions['tp'].sum() / (predictions['tp'].sum() + predictions['fp'].sum())\n",
    "tpr = predictions['tp'].sum() / (predictions['tp'].sum() + predictions['fn'].sum())\n",
    "tnr = predictions['tn'].sum() / (predictions['tn'].sum() + predictions['fp'].sum())\n",
    "\n",
    "print(\"Accuracy:\", accuracy)\n",
    "print(\"Precision:\", precision)\n",
    "print(\"True Positive Rate:\", tpr)\n",
    "print(\"True Negative Rate:\", tnr)\n"
   ]
  },
  {
   "cell_type": "code",
   "execution_count": null,
   "id": "2a616dbf",
   "metadata": {},
   "outputs": [],
   "source": [
    "#Accuracy: only 27.74% were classified correctly of all the instances. Precision: only 27.19% were truly positive of all the insstances. True Positive Rate: the model correctly identified 65.95% of all positively identified as positive. True Negative Rate: the model correctly identified only 7.78% of negative instances as negative. "
   ]
  },
  {
   "cell_type": "code",
   "execution_count": 29,
   "id": "2a155343",
   "metadata": {},
   "outputs": [
    {
     "name": "stdout",
     "output_type": "stream",
     "text": [
      "Accuracy: 0.5985401459854015\n",
      "True Positive Rate: 0.2978723404255319\n"
     ]
    }
   ],
   "source": [
    "#Question 7\n",
    "from sklearn.neighbors import KNeighborsClassifier\n",
    "from sklearn.metrics import accuracy_score, recall_score\n",
    "\n",
    "k_values = [1, 5, 10, 15, 20, 25, 30, 35, 40, 45, 50, 55, 60, 65, 70, 75, 80, 85, 90, 95, 100]\n",
    "\n",
    "tpr_scores = []\n",
    "accuracy_scores = []\n",
    "\n",
    "for k in k_values:\n",
    "    knn_model = KNeighborsClassifier(n_neighbors=k)\n",
    "    knn_model.fit(X_train, y_train)\n",
    "    y_predicted_knn = knn_model.predict(X_test)\n",
    "\n",
    "    accuracy = accuracy_score(y_test, y_predicted_knn)\n",
    "    accuracy_scores.append(accuracy)\n",
    "\n",
    "    tpr = recall_score(y_test, y_predicted_knn)\n",
    "    tpr_scores.append(tpr)\n",
    "\n",
    "best_k = k_values[tpr_scores.index(max(tpr_scores))]\n",
    "\n",
    "print('Accuracy:', accuracy_scores[tpr_scores.index(max(tpr_scores))])\n",
    "print('True Positive Rate:', max(tpr_scores))"
   ]
  },
  {
   "cell_type": "code",
   "execution_count": null,
   "id": "011c739e",
   "metadata": {},
   "outputs": [],
   "source": [
    "#I think that the classifier is moderately good as it has an accuracy of .5985 and of all the actually positve instances, it correctly predicted about 29.787% of them. "
   ]
  },
  {
   "cell_type": "code",
   "execution_count": 26,
   "id": "2632e9ca",
   "metadata": {},
   "outputs": [
    {
     "name": "stdout",
     "output_type": "stream",
     "text": [
      "Logistic Regression True Positive Rate: 87.5\n",
      "Accuracy: 12.408759124087592\n"
     ]
    }
   ],
   "source": [
    "from sklearn.linear_model import LogisticRegression\n",
    "\n",
    "lr_model = LogisticRegression(C=1e5)\n",
    "lr_model.fit(X_train, y_train)\n",
    "y_predicted_lr = lr_model.predict(X_test)\n",
    "y_predicted_prob_lr = lr_model.predict_proba(X_test)[:,1]\n",
    "threshold = 0.32\n",
    "y_predicted_lr = (y_predicted_prob_lr >= threshold).astype(int)\n",
    "\n",
    "predictions_lr = pd.DataFrame()\n",
    "predictions_lr['y_predicted'] = y_predicted_lr\n",
    "predictions_lr['y_actual'] = y_test\n",
    "predictions_lr['error'] = y_predicted_lr - y_test\n",
    "predictions_lr['tp'] = ((predictions_lr['y_predicted'] == 1) & (predictions_lr['y_actual'] == 1)).tolist()\n",
    "predictions_lr['fp'] = ((predictions_lr['y_predicted'] == 1) & (predictions_lr['y_actual'] == 0)).tolist()\n",
    "predictions_lr['tn'] = ((predictions_lr['y_predicted'] == 0) & (predictions_lr['y_actual'] == 0)).astype(int)\n",
    "predictions_lr['fn'] = ((predictions_lr['y_predicted'] == 0) & (predictions_lr['y_actual'] == 1)).astype(int)\n",
    "\n",
    "correct_predictions_lr = len(predictions_lr[predictions_lr['y_predicted'] == predictions_lr['y_actual']])\n",
    "accuracy_lr = correct_predictions_lr / len(predictions_lr) * 100\n",
    "\n",
    "predictions_lr['y_predicted'] = predictions_lr['y_predicted'].astype(bool)\n",
    "predictions_lr['y_actual'] = predictions_lr['y_actual'].astype(bool)\n",
    "\n",
    "tpr_lr = sum(predictions_lr['tp']) / (sum(predictions_lr['tp']) + sum(predictions_lr['fn'])) * 100\n",
    "\n",
    "print('True Positive Rate:', tpr_lr)\n",
    "print('Accuracy:', accuracy_lr)"
   ]
  },
  {
   "cell_type": "code",
   "execution_count": null,
   "id": "7f5711f7",
   "metadata": {},
   "outputs": [],
   "source": [
    "#I think that the classifier is somewhat good as it has an accuracy of .1241 and of all the actually positve instances, it correctly predicted about 87.5% of them. "
   ]
  },
  {
   "cell_type": "code",
   "execution_count": 27,
   "id": "1d33155b",
   "metadata": {
    "scrolled": true
   },
   "outputs": [
    {
     "data": {
      "image/png": "[encoded data removed]",
      "text/plain": [
       "<Figure size 640x480 with 1 Axes>"
      ]
     },
     "metadata": {},
     "output_type": "display_data"
    }
   ],
   "source": [
    "#Question 8\n",
    "import matplotlib.pyplot as plt\n",
    "k_values = range(1, 20) \n",
    "test_accuracy = []\n",
    "\n",
    "for k in k_values:\n",
    "    knn_model = KNeighborsClassifier(n_neighbors=k)\n",
    "\n",
    "    knn_model.fit(X_train, y_train)\n",
    "\n",
    "    y_predicted_knn = knn_model.predict(X_test)\n",
    "\n",
    "    accuracy_knn = knn_model.score(X_test, y_test)\n",
    "    test_accuracy.append(accuracy_knn)\n",
    "\n",
    "plt.plot(k_values, test_accuracy)\n",
    "plt.xlabel('Number of Neighbors (k)')\n",
    "plt.ylabel('Test Accuracy')\n",
    "plt.title('KNN Classifier Test Accuracy vs. Number of Neighbors')\n",
    "plt.show()"
   ]
  },
  {
   "cell_type": "code",
   "execution_count": null,
   "id": "9f6f14cd",
   "metadata": {},
   "outputs": [],
   "source": [
    "#The performance of the classifier is moderate, as it reaches an accuracy of around .65. As the k value is varied, the accuracy varies, but it eventually goes up to an accuracy of about .65 and stays there. "
   ]
  },
  {
   "cell_type": "code",
   "execution_count": 28,
   "id": "aa18e24c",
   "metadata": {},
   "outputs": [
    {
     "data": {
      "image/png": "[encoded data removed]",
      "text/plain": [
       "<Figure size 640x480 with 1 Axes>"
      ]
     },
     "metadata": {},
     "output_type": "display_data"
    }
   ],
   "source": [
    "#Question 9\n",
    "C_values = np.logspace(-3, 3, num=7)\n",
    "test_accuracies = []\n",
    "\n",
    "for C in C_values:\n",
    "    lr = LogisticRegression(C=C, max_iter=10000)\n",
    "    lr.fit(X_train, y_train)\n",
    "    test_accuracy = lr.score(X_test, y_test)\n",
    "    test_accuracies.append(test_accuracy)\n",
    "\n",
    "plt.plot(C_values, test_accuracies)\n",
    "plt.xscale('log')\n",
    "plt.xlabel('C')\n",
    "plt.ylabel('Test Accuracy')\n",
    "plt.title('Logistic Regression Accuracy vs. C')\n",
    "plt.show()"
   ]
  },
  {
   "cell_type": "code",
   "execution_count": null,
   "id": "e6a6b760",
   "metadata": {},
   "outputs": [],
   "source": [
    "#The performance of this classifier is moderately good becuase the accuaracy is around .654. However as C is being varied, the test accuracy remains stagnant. "
   ]
  }
 ],
 "metadata": {
  "kernelspec": {
   "display_name": "Python [conda env:GS-3.8]",
   "language": "python",
   "name": "conda-env-GS-3.8-py"
  },
  "language_info": {
   "codemirror_mode": {
    "name": "ipython",
    "version": 3
   },
   "file_extension": ".py",
   "mimetype": "text/x-python",
   "name": "python",
   "nbconvert_exporter": "python",
   "pygments_lexer": "ipython3",
   "version": "3.8.15"
  }
 },
 "nbformat": 4,
 "nbformat_minor": 5
}
