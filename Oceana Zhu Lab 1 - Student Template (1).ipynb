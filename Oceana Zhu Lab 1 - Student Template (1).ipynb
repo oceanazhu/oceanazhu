{
 "cells": [
  {
   "cell_type": "markdown",
   "metadata": {
    "id": "Xu_3PGN0tVdf"
   },
   "source": [
    "# Lab 1 Overview\n",
    "\n",
    "Objective: (1) Practice hands-on work with the material discussed in lecture 1 (2) To be very familiarized with basic data visualization routines (3) Upon completion of the lab, TA will assist with any questions and homework help\n",
    "\n",
    "We want you to gain familiarity to be able to complete these task with relative ease as they are very commonplace routines in data science"
   ]
  },
  {
   "cell_type": "markdown",
   "metadata": {
    "id": "LM9wsZAvyOb8"
   },
   "source": [
    "# ✅ Basic Python"
   ]
  },
  {
   "cell_type": "markdown",
   "metadata": {
    "id": "nrajigQr1Z9y"
   },
   "source": [
    "As we discussed in class, there are many types. For this section, please determine by inspection the type and then confirm using the built-in type function\n",
    "\n",
    "**(6pts)TO DO:** Determine the types using inspection and 'type' \n",
    "\n",
    "\n",
    "\n",
    "*   [[2,3,4], [1,2,3],[4,5,6]]\n",
    "*   (2,3)\n",
    "*   5.00000001\n",
    "*   'three'\n",
    "*   {4,5,6}\n",
    "*   {'one': 1, 'two': 2, 'three':3}\n",
    "\n",
    "\n",
    "\n",
    "\n",
    "\n",
    "\n",
    "\n"
   ]
  },
  {
   "cell_type": "code",
   "execution_count": 11,
   "metadata": {
    "colab": {
     "base_uri": "https://localhost:8080/"
    },
    "id": "vjOwP7m42cKw",
    "outputId": "9de0bce0-134a-4813-fbb4-7a74c9956699"
   },
   "outputs": [
    {
     "name": "stdout",
     "output_type": "stream",
     "text": [
      "<class 'list'>\n",
      "<class 'tuple'>\n",
      "<class 'float'>\n",
      "<class 'str'>\n",
      "<class 'set'>\n",
      "<class 'dict'>\n"
     ]
    }
   ],
   "source": [
    "#list\n",
    "#tuple\n",
    "#float\n",
    "#str\n",
    "#set\n",
    "#dict\n",
    "\n",
    "\n",
    "print(type([[2,3,4], [1,2,3],[4,5,6]]))\n",
    "print(type((2,3)))\n",
    "print(type(5.00000001))\n",
    "print(type('three'))\n",
    "print(type({4,5,6}))\n",
    "print(type({'one': 1, 'two': 2, 'three':3}))"
   ]
  },
  {
   "cell_type": "markdown",
   "metadata": {
    "id": "bQPXXXu12_BN"
   },
   "source": [
    "We have familiarized ourselves with Python's built-in function, now it is time to practice writing our own functions\n",
    "\n",
    "**(10pts) TO DO:** Please write a function named \"special_list_times\". It will take 2 arguments: (1)a list of ints called \"int_list\" and (2) 1 int called \"the_int\". The function will return the list with every item multiplied by \"the_int\"\n",
    "\n",
    "For example: if int_list = [1,2,3,4,5] and the_int = 2, then [2,4,6,8,10] will be returned"
   ]
  },
  {
   "cell_type": "code",
   "execution_count": 12,
   "metadata": {
    "id": "vE-b_9Q64Z7r"
   },
   "outputs": [],
   "source": [
    "int_list=[1,2,3,4,5]\n",
    "the_int=2"
   ]
  },
  {
   "cell_type": "code",
   "execution_count": 13,
   "metadata": {
    "colab": {
     "base_uri": "https://localhost:8080/"
    },
    "id": "wbb0djd74q05",
    "outputId": "3c9ba8af-f63b-427e-e860-c3d08292b0a7"
   },
   "outputs": [
    {
     "name": "stdout",
     "output_type": "stream",
     "text": [
      "[2, 4, 6, 8, 10]\n"
     ]
    }
   ],
   "source": [
    "def special_list_times(int_list,the_int):\n",
    "    result=[i*the_int for i in int_list]\n",
    "    print(result)\n",
    "    \n",
    "special_list_times(int_list,the_int)"
   ]
  },
  {
   "cell_type": "markdown",
   "metadata": {
    "id": "GleRHauU5CAq"
   },
   "source": [
    "**(10pts) TO DO:** Given a list of data (ints), we want to write a function that extracts data that meet our condition of being divisible by 6. Then return those that meet the condition into a new list.\n",
    "\n",
    "For example: if data = [17,13,5,36,30], we only want [36,30]"
   ]
  },
  {
   "cell_type": "code",
   "execution_count": 43,
   "metadata": {
    "id": "irBX83hB6IGn"
   },
   "outputs": [
    {
     "name": "stdout",
     "output_type": "stream",
     "text": [
      "[12, 6]\n"
     ]
    }
   ],
   "source": [
    "data=[12,4,10,6,7]\n",
    "\n",
    "filtered = []\n",
    "\n",
    "for num in data:\n",
    " \n",
    "    if num % 6 == 0:\n",
    "        filtered.append(num)\n",
    " \n",
    "print(filtered)"
   ]
  },
  {
   "cell_type": "code",
   "execution_count": null,
   "metadata": {
    "colab": {
     "base_uri": "https://localhost:8080/"
    },
    "id": "459uxIxB63zt",
    "outputId": "a73c034a-e027-47f7-b64f-9ca398ac38b8",
    "scrolled": true
   },
   "outputs": [],
   "source": []
  },
  {
   "cell_type": "markdown",
   "metadata": {
    "id": "YNKZyBIm1Wat"
   },
   "source": [
    "# ✅ Numpy"
   ]
  },
  {
   "cell_type": "markdown",
   "metadata": {
    "id": "1nE-Pxkq7OLS"
   },
   "source": [
    "**TO DO:** Please import the numpy library with the alias (\"nickname\") np"
   ]
  },
  {
   "cell_type": "code",
   "execution_count": 15,
   "metadata": {
    "id": "7NmgcAon7XNI"
   },
   "outputs": [],
   "source": [
    "import numpy as np"
   ]
  },
  {
   "cell_type": "markdown",
   "metadata": {
    "id": "2laO7J9f7Zle"
   },
   "source": [
    "Given the below array of data:\n",
    "\n",
    "\n",
    "\n"
   ]
  },
  {
   "cell_type": "code",
   "execution_count": 16,
   "metadata": {
    "colab": {
     "base_uri": "https://localhost:8080/"
    },
    "id": "LFBHeWWn81qL",
    "outputId": "1d63ee8a-585e-4331-c5d3-d18f6f2ed2dc"
   },
   "outputs": [
    {
     "data": {
      "text/plain": [
       "array([[ 37, 235, 140,  72, 137],\n",
       "       [203, 133,  79, 192, 144],\n",
       "       [129, 204,  71, 237, 252],\n",
       "       [134,  25, 178,  20, 254]])"
      ]
     },
     "execution_count": 16,
     "metadata": {},
     "output_type": "execute_result"
    }
   ],
   "source": [
    "# Given\n",
    "np.random.seed(1) # Be sure to include this line of code\n",
    "given_array = np.random.randint(0, high=255, size=(4,5))\n",
    "given_array"
   ]
  },
  {
   "cell_type": "markdown",
   "metadata": {
    "id": "Ie9l4nz-_FcS"
   },
   "source": [
    "**(6 pts) TO DO:** Using built-in numpy functions, please determine the following:\n",
    "\n",
    "\n",
    "*   What is the shape of the array?\n",
    "*   How many items are in this array?\n",
    "*   What is the sum of all the items in this array?\n",
    "*   What is the mean of all the items in this array?\n",
    "\n",
    "\n",
    "*   What is the smallest value in this array?\n",
    "*   what is the largest value in this array?\n",
    "\n",
    "\n"
   ]
  },
  {
   "cell_type": "code",
   "execution_count": 17,
   "metadata": {
    "colab": {
     "base_uri": "https://localhost:8080/"
    },
    "id": "P1fjjaxR_JI5",
    "outputId": "4d40358c-6a18-4033-acc0-c7bda20d9d7b"
   },
   "outputs": [
    {
     "data": {
      "text/plain": [
       "(4, 5)"
      ]
     },
     "execution_count": 17,
     "metadata": {},
     "output_type": "execute_result"
    }
   ],
   "source": [
    "np.shape(given_array)"
   ]
  },
  {
   "cell_type": "code",
   "execution_count": 18,
   "metadata": {},
   "outputs": [
    {
     "data": {
      "text/plain": [
       "20"
      ]
     },
     "execution_count": 18,
     "metadata": {},
     "output_type": "execute_result"
    }
   ],
   "source": [
    "np.count_nonzero(given_array)"
   ]
  },
  {
   "cell_type": "code",
   "execution_count": 19,
   "metadata": {},
   "outputs": [
    {
     "data": {
      "text/plain": [
       "2876"
      ]
     },
     "execution_count": 19,
     "metadata": {},
     "output_type": "execute_result"
    }
   ],
   "source": [
    "np.sum(given_array)"
   ]
  },
  {
   "cell_type": "code",
   "execution_count": 20,
   "metadata": {},
   "outputs": [
    {
     "data": {
      "text/plain": [
       "143.8"
      ]
     },
     "execution_count": 20,
     "metadata": {},
     "output_type": "execute_result"
    }
   ],
   "source": [
    "np.mean(given_array)"
   ]
  },
  {
   "cell_type": "code",
   "execution_count": 21,
   "metadata": {
    "colab": {
     "base_uri": "https://localhost:8080/"
    },
    "id": "dbW6vleg_Yuq",
    "outputId": "87c4a0c1-00c4-4068-b7fb-59a57049dd3a"
   },
   "outputs": [
    {
     "data": {
      "text/plain": [
       "20"
      ]
     },
     "execution_count": 21,
     "metadata": {},
     "output_type": "execute_result"
    }
   ],
   "source": [
    "np.amin(given_array)"
   ]
  },
  {
   "cell_type": "code",
   "execution_count": 22,
   "metadata": {
    "colab": {
     "base_uri": "https://localhost:8080/"
    },
    "id": "6aWmp0ap_evw",
    "outputId": "7bf87b23-8754-438c-877a-b92fa7baef42"
   },
   "outputs": [
    {
     "data": {
      "text/plain": [
       "254"
      ]
     },
     "execution_count": 22,
     "metadata": {},
     "output_type": "execute_result"
    }
   ],
   "source": [
    "np.amax(given_array)"
   ]
  },
  {
   "cell_type": "markdown",
   "metadata": {
    "id": "OKlvp7KW82Rw"
   },
   "source": [
    "**(10pts) TO DO:** built-in numpy functions, please perform the following operations:\n",
    "\n",
    "\n",
    "*   Scale every item in the array by (item - mean of the entire array)/variance of the entire array [Hint: check out https://numpy.org/doc/stable/reference/generated/numpy.var.html ]\n",
    "*   Then, reshape this array into a (2,10) array\n",
    "*   Finally, flatten this array into a 1-dimensional vector\n",
    "\n"
   ]
  },
  {
   "cell_type": "code",
   "execution_count": 26,
   "metadata": {
    "colab": {
     "base_uri": "https://localhost:8080/"
    },
    "id": "lWUS3PxC_oxT",
    "outputId": "b2dc758d-ba07-4388-8f28-4810f3d366a5"
   },
   "outputs": [
    {
     "name": "stdout",
     "output_type": "stream",
     "text": [
      "[[-1.98754620e-02  1.69723046e-02 -7.07179359e-04 -1.33619679e-02\n",
      "  -1.26547885e-03]\n",
      " [ 1.10171100e-02 -2.00987818e-03 -1.20592691e-02  8.97001187e-03\n",
      "   3.72199663e-05]\n",
      " [-2.75427750e-03  1.12032098e-02 -1.35480677e-02  1.73445043e-02\n",
      "   2.01360018e-02]\n",
      " [-1.82377835e-03 -2.21086600e-02  6.36461423e-03 -2.30391591e-02\n",
      "   2.05082014e-02]]\n"
     ]
    }
   ],
   "source": [
    "rescale_arrray=(given_array-np.mean(given_array))/np.var(given_array)\n",
    "print(rescale_array)"
   ]
  },
  {
   "cell_type": "code",
   "execution_count": 27,
   "metadata": {
    "colab": {
     "base_uri": "https://localhost:8080/"
    },
    "id": "7yRCwFYZAHkj",
    "outputId": "b8210cc1-c475-4db3-d37d-87f9e0326c4f"
   },
   "outputs": [
    {
     "data": {
      "text/plain": [
       "array([[-1.98754620e-02,  1.69723046e-02, -7.07179359e-04,\n",
       "        -1.33619679e-02, -1.26547885e-03,  1.10171100e-02,\n",
       "        -2.00987818e-03, -1.20592691e-02,  8.97001187e-03,\n",
       "         3.72199663e-05],\n",
       "       [-2.75427750e-03,  1.12032098e-02, -1.35480677e-02,\n",
       "         1.73445043e-02,  2.01360018e-02, -1.82377835e-03,\n",
       "        -2.21086600e-02,  6.36461423e-03, -2.30391591e-02,\n",
       "         2.05082014e-02]])"
      ]
     },
     "execution_count": 27,
     "metadata": {},
     "output_type": "execute_result"
    }
   ],
   "source": [
    "np.resize(rescale_array,(2,10))"
   ]
  },
  {
   "cell_type": "code",
   "execution_count": 28,
   "metadata": {
    "colab": {
     "base_uri": "https://localhost:8080/"
    },
    "id": "egW4MaITAiyY",
    "outputId": "153ba1b7-2cbe-4f44-9068-92438adb4a61"
   },
   "outputs": [
    {
     "data": {
      "text/plain": [
       "array([-1.98754620e-02,  1.69723046e-02, -7.07179359e-04, -1.33619679e-02,\n",
       "       -1.26547885e-03,  1.10171100e-02, -2.00987818e-03, -1.20592691e-02,\n",
       "        8.97001187e-03,  3.72199663e-05, -2.75427750e-03,  1.12032098e-02,\n",
       "       -1.35480677e-02,  1.73445043e-02,  2.01360018e-02, -1.82377835e-03,\n",
       "       -2.21086600e-02,  6.36461423e-03, -2.30391591e-02,  2.05082014e-02])"
      ]
     },
     "execution_count": 28,
     "metadata": {},
     "output_type": "execute_result"
    }
   ],
   "source": [
    "rescale_array.flatten()"
   ]
  },
  {
   "cell_type": "markdown",
   "metadata": {
    "id": "N7Yg6BTNx-qS"
   },
   "source": [
    "# ✅ Pandas"
   ]
  },
  {
   "cell_type": "markdown",
   "metadata": {
    "id": "8RAlR2xuvWZE"
   },
   "source": [
    "**TO DO:** Please import the pandas library with the alias (\"nickname\") pd"
   ]
  },
  {
   "cell_type": "code",
   "execution_count": 7,
   "metadata": {
    "id": "ocvpxkMStkgE"
   },
   "outputs": [],
   "source": [
    "import pandas as pd"
   ]
  },
  {
   "cell_type": "markdown",
   "metadata": {
    "id": "MD4WeFSOvhsT"
   },
   "source": [
    "We will be working with the comma separated file of the top 50 songs as seen in lecture\n",
    "\n",
    "**(2 pts) TO DO:** Please read-in this csv file and assign it the name df"
   ]
  },
  {
   "cell_type": "code",
   "execution_count": 38,
   "metadata": {
    "id": "-8VI9cHmuMX-"
   },
   "outputs": [],
   "source": [
    "df = pd.read_csv('shared/datasets/top50.csv')"
   ]
  },
  {
   "cell_type": "markdown",
   "metadata": {
    "id": "KsTJ6dUWv-KZ"
   },
   "source": [
    "Visualizing our data: When working with any dataset, we want to be able to display the data to get a sense of it. For instance, .head() will display the first 5 samples of any dataframe by default.\n",
    "\n",
    "You can pass in any integer to get another amount of samples (assuming the integer is less than the number of total samples there are in the dataframe)\n"
   ]
  },
  {
   "cell_type": "code",
   "execution_count": 39,
   "metadata": {
    "colab": {
     "base_uri": "https://localhost:8080/",
     "height": 438
    },
    "id": "I5XrYp-suRIl",
    "outputId": "d9d421c2-4162-4db8-c9a6-40c5b833e10b"
   },
   "outputs": [
    {
     "data": {
      "text/html": [
       "<div>\n",
       "<style scoped>\n",
       "    .dataframe tbody tr th:only-of-type {\n",
       "        vertical-align: middle;\n",
       "    }\n",
       "\n",
       "    .dataframe tbody tr th {\n",
       "        vertical-align: top;\n",
       "    }\n",
       "\n",
       "    .dataframe thead th {\n",
       "        text-align: right;\n",
       "    }\n",
       "</style>\n",
       "<table border=\"1\" class=\"dataframe\">\n",
       "  <thead>\n",
       "    <tr style=\"text-align: right;\">\n",
       "      <th></th>\n",
       "      <th>TrackName</th>\n",
       "      <th>ArtistName</th>\n",
       "      <th>Genre</th>\n",
       "      <th>BeatsPerMinute</th>\n",
       "      <th>Energy</th>\n",
       "      <th>Danceability</th>\n",
       "      <th>LoudnessdB</th>\n",
       "      <th>Liveness</th>\n",
       "      <th>Valence</th>\n",
       "      <th>Length</th>\n",
       "      <th>Acousticness</th>\n",
       "      <th>Speechiness</th>\n",
       "      <th>Popularity</th>\n",
       "    </tr>\n",
       "  </thead>\n",
       "  <tbody>\n",
       "    <tr>\n",
       "      <th>0</th>\n",
       "      <td>Señorita</td>\n",
       "      <td>Shawn Mendes</td>\n",
       "      <td>canadian pop</td>\n",
       "      <td>117</td>\n",
       "      <td>55</td>\n",
       "      <td>76</td>\n",
       "      <td>-6</td>\n",
       "      <td>8</td>\n",
       "      <td>75</td>\n",
       "      <td>191</td>\n",
       "      <td>4</td>\n",
       "      <td>3</td>\n",
       "      <td>79</td>\n",
       "    </tr>\n",
       "    <tr>\n",
       "      <th>1</th>\n",
       "      <td>China</td>\n",
       "      <td>Anuel AA</td>\n",
       "      <td>reggaeton flow</td>\n",
       "      <td>105</td>\n",
       "      <td>81</td>\n",
       "      <td>79</td>\n",
       "      <td>-4</td>\n",
       "      <td>8</td>\n",
       "      <td>61</td>\n",
       "      <td>302</td>\n",
       "      <td>8</td>\n",
       "      <td>9</td>\n",
       "      <td>92</td>\n",
       "    </tr>\n",
       "    <tr>\n",
       "      <th>2</th>\n",
       "      <td>boyfriend (with Social House)</td>\n",
       "      <td>Ariana Grande</td>\n",
       "      <td>dance pop</td>\n",
       "      <td>190</td>\n",
       "      <td>80</td>\n",
       "      <td>40</td>\n",
       "      <td>-4</td>\n",
       "      <td>16</td>\n",
       "      <td>70</td>\n",
       "      <td>186</td>\n",
       "      <td>12</td>\n",
       "      <td>46</td>\n",
       "      <td>85</td>\n",
       "    </tr>\n",
       "    <tr>\n",
       "      <th>3</th>\n",
       "      <td>Beautiful People (feat. Khalid)</td>\n",
       "      <td>Ed Sheeran</td>\n",
       "      <td>pop</td>\n",
       "      <td>93</td>\n",
       "      <td>65</td>\n",
       "      <td>64</td>\n",
       "      <td>-8</td>\n",
       "      <td>8</td>\n",
       "      <td>55</td>\n",
       "      <td>198</td>\n",
       "      <td>12</td>\n",
       "      <td>19</td>\n",
       "      <td>86</td>\n",
       "    </tr>\n",
       "    <tr>\n",
       "      <th>4</th>\n",
       "      <td>Goodbyes (Feat. Young Thug)</td>\n",
       "      <td>Post Malone</td>\n",
       "      <td>dfw rap</td>\n",
       "      <td>150</td>\n",
       "      <td>65</td>\n",
       "      <td>58</td>\n",
       "      <td>-4</td>\n",
       "      <td>11</td>\n",
       "      <td>18</td>\n",
       "      <td>175</td>\n",
       "      <td>45</td>\n",
       "      <td>7</td>\n",
       "      <td>94</td>\n",
       "    </tr>\n",
       "  </tbody>\n",
       "</table>\n",
       "</div>"
      ],
      "text/plain": [
       "                         TrackName     ArtistName           Genre  \\\n",
       "0                         Señorita   Shawn Mendes    canadian pop   \n",
       "1                            China       Anuel AA  reggaeton flow   \n",
       "2    boyfriend (with Social House)  Ariana Grande       dance pop   \n",
       "3  Beautiful People (feat. Khalid)     Ed Sheeran             pop   \n",
       "4      Goodbyes (Feat. Young Thug)    Post Malone         dfw rap   \n",
       "\n",
       "   BeatsPerMinute  Energy  Danceability  LoudnessdB  Liveness  Valence  \\\n",
       "0             117      55            76          -6         8       75   \n",
       "1             105      81            79          -4         8       61   \n",
       "2             190      80            40          -4        16       70   \n",
       "3              93      65            64          -8         8       55   \n",
       "4             150      65            58          -4        11       18   \n",
       "\n",
       "   Length  Acousticness  Speechiness  Popularity  \n",
       "0     191             4            3          79  \n",
       "1     302             8            9          92  \n",
       "2     186            12           46          85  \n",
       "3     198            12           19          86  \n",
       "4     175            45            7          94  "
      ]
     },
     "execution_count": 39,
     "metadata": {},
     "output_type": "execute_result"
    }
   ],
   "source": [
    "df.head(5)"
   ]
  },
  {
   "cell_type": "markdown",
   "metadata": {
    "id": "De8BcQs3wygI"
   },
   "source": [
    "**(6pts) TO DO:** Please display \n",
    "\n",
    "*   the first 3 datapoints in this dataframe\n",
    "*   the last 4 items in this dataframe \n",
    "*    a random sample of 3 datapoints in this dataframe"
   ]
  },
  {
   "cell_type": "code",
   "execution_count": 40,
   "metadata": {
    "colab": {
     "base_uri": "https://localhost:8080/",
     "height": 274
    },
    "id": "ezHIkdj8vQDU",
    "outputId": "43841e84-18fc-45fd-9a4b-69c4a9521c2d"
   },
   "outputs": [
    {
     "name": "stdout",
     "output_type": "stream",
     "text": [
      "                       TrackName     ArtistName           Genre  \\\n",
      "0                       Señorita   Shawn Mendes    canadian pop   \n",
      "1                          China       Anuel AA  reggaeton flow   \n",
      "2  boyfriend (with Social House)  Ariana Grande       dance pop   \n",
      "\n",
      "   BeatsPerMinute  Energy  Danceability  LoudnessdB  Liveness  Valence  \\\n",
      "0             117      55            76          -6         8       75   \n",
      "1             105      81            79          -4         8       61   \n",
      "2             190      80            40          -4        16       70   \n",
      "\n",
      "   Length  Acousticness  Speechiness  Popularity  \n",
      "0     191             4            3          79  \n",
      "1     302             8            9          92  \n",
      "2     186            12           46          85  \n"
     ]
    }
   ],
   "source": [
    "print(df.iloc[:3])"
   ]
  },
  {
   "cell_type": "code",
   "execution_count": 41,
   "metadata": {
    "colab": {
     "base_uri": "https://localhost:8080/",
     "height": 322
    },
    "id": "srcbV-FQxb_c",
    "outputId": "0f54c109-ae95-4a20-87de-250d83d13597"
   },
   "outputs": [
    {
     "name": "stdout",
     "output_type": "stream",
     "text": [
      "                                        TrackName        ArtistName    Genre  \\\n",
      "46                                      Te Robaré         Nicky Jam    latin   \n",
      "47                                        Happier        Marshmello  brostep   \n",
      "48                                  Call You Mine  The Chainsmokers      edm   \n",
      "49  Cross Me (feat. Chance the Rapper & PnB Rock)        Ed Sheeran      pop   \n",
      "\n",
      "    BeatsPerMinute  Energy  Danceability  LoudnessdB  Liveness  Valence  \\\n",
      "46             176      75            67          -4         8       80   \n",
      "47             100      79            69          -3        17       67   \n",
      "48             104      70            59          -6        41       50   \n",
      "49              95      79            75          -6         7       61   \n",
      "\n",
      "    Length  Acousticness  Speechiness  Popularity  \n",
      "46     202            24            6          88  \n",
      "47     214            19            5          88  \n",
      "48     218            23            3          88  \n",
      "49     206            21           12          82  \n"
     ]
    }
   ],
   "source": [
    "print(df.tail(4))"
   ]
  },
  {
   "cell_type": "code",
   "execution_count": 42,
   "metadata": {
    "colab": {
     "base_uri": "https://localhost:8080/",
     "height": 274
    },
    "id": "07hub2iTxepY",
    "outputId": "a66a709a-b123-4bfc-b620-5cbb008e371d"
   },
   "outputs": [
    {
     "name": "stdout",
     "output_type": "stream",
     "text": [
      "                            TrackName  ArtistName             Genre  \\\n",
      "5   I Don't Care (with Justin Bieber)  Ed Sheeran               pop   \n",
      "45                    One Thing Right  Marshmello           brostep   \n",
      "27                           It's You   Ali Gatie  canadian hip hop   \n",
      "\n",
      "    BeatsPerMinute  Energy  Danceability  LoudnessdB  Liveness  Valence  \\\n",
      "5              102      68            80          -5         9       84   \n",
      "45              88      62            66          -2        58       44   \n",
      "27              96      46            73          -7        19       40   \n",
      "\n",
      "    Length  Acousticness  Speechiness  Popularity  \n",
      "5      220             9            4          84  \n",
      "45     182             7            5          88  \n",
      "27     213            37            3          89  \n"
     ]
    }
   ],
   "source": [
    "print(df.sample(3))"
   ]
  },
  {
   "cell_type": "code",
   "execution_count": null,
   "metadata": {},
   "outputs": [],
   "source": []
  }
 ],
 "metadata": {
  "colab": {
   "provenance": []
  },
  "kernelspec": {
   "display_name": "Python 3 (ipykernel)",
   "language": "python",
   "name": "python3"
  },
  "language_info": {
   "codemirror_mode": {
    "name": "ipython",
    "version": 3
   },
   "file_extension": ".py",
   "mimetype": "text/x-python",
   "name": "python",
   "nbconvert_exporter": "python",
   "pygments_lexer": "ipython3",
   "version": "3.10.6"
  }
 },
 "nbformat": 4,
 "nbformat_minor": 1
}
