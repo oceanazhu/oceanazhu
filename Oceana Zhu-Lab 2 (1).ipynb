{
 "cells": [
  {
   "cell_type": "markdown",
   "metadata": {
    "id": "iGsErkkn1wba"
   },
   "source": [
    "\n",
    "\n",
    "# Lab 2: Practicing Data Exploration\n",
    "\n"
   ]
  },
  {
   "cell_type": "markdown",
   "metadata": {
    "id": "mh4vuBI-136_"
   },
   "source": [
    "This lab is based on material discussed in lecture 2 while building on from the Python refresher and week 1.\n",
    "\n"
   ]
  },
  {
   "cell_type": "markdown",
   "metadata": {
    "id": "FW81DHPy2KUu"
   },
   "source": [
    "# Part 1: Constructing a dataframe"
   ]
  },
  {
   "cell_type": "markdown",
   "metadata": {
    "id": "a4PfE1oV8MoK"
   },
   "source": [
    "## Reading in data"
   ]
  },
  {
   "cell_type": "code",
   "execution_count": 42,
   "metadata": {
    "id": "hl-SdNO_5Nhf"
   },
   "outputs": [],
   "source": [
    "# Import your necessary libraries\n",
    "import numpy as np\n",
    "import pandas as pd"
   ]
  },
  {
   "cell_type": "markdown",
   "metadata": {
    "id": "6E5cyLMy2OLY"
   },
   "source": [
    "You are given two .csv files: (1) the_names.csv contains the names of the students in our class (2) the_locations.csv contains the state where the student is based in. The order was determined by the order you filled out the student survey."
   ]
  },
  {
   "cell_type": "code",
   "execution_count": 43,
   "metadata": {
    "id": "X-ywO8TRs1iz"
   },
   "outputs": [],
   "source": [
    "# Read in the .csv files\n",
    "# Be sure to include header=None as a parameters\n",
    "# For example: names_df = pd.read_csv('filename', header=None)"
   ]
  },
  {
   "cell_type": "code",
   "execution_count": 44,
   "metadata": {
    "id": "q1d84pc2PCXZ"
   },
   "outputs": [],
   "source": [
    "names_df=pd.read_csv('shared/datasets/the_names.csv', header=None)\n",
    "location_df=pd.read_csv('shared/datasets/the_locations.csv', header=None)"
   ]
  },
  {
   "cell_type": "markdown",
   "metadata": {
    "id": "GIRwYekc7rqq"
   },
   "source": [
    "Add a column containing the locations to the existing names dataframe. "
   ]
  },
  {
   "cell_type": "code",
   "execution_count": 45,
   "metadata": {
    "id": "wT6IjmdN5Z56"
   },
   "outputs": [],
   "source": [
    "names_df['location'] = location_df"
   ]
  },
  {
   "cell_type": "markdown",
   "metadata": {
    "id": "4VJRDO9h72Mx"
   },
   "source": [
    "For typing convenience, rename your dataframe to something short like df"
   ]
  },
  {
   "cell_type": "code",
   "execution_count": 46,
   "metadata": {
    "id": "sLwa-T7C65O1"
   },
   "outputs": [],
   "source": [
    "df = names_df"
   ]
  },
  {
   "cell_type": "markdown",
   "metadata": {
    "id": "UZDI7aLR7aLU"
   },
   "source": [
    "Assign column names that reflect the information we have (ie: something like names/students and locations)"
   ]
  },
  {
   "cell_type": "code",
   "execution_count": 47,
   "metadata": {
    "id": "Kyc6LaBa8Dbg"
   },
   "outputs": [],
   "source": [
    "df.columns = ['Names of Students', 'Locations']"
   ]
  },
  {
   "cell_type": "markdown",
   "metadata": {
    "id": "NUDwouq58VIM"
   },
   "source": [
    "## Adding data to existing dataframe"
   ]
  },
  {
   "cell_type": "markdown",
   "metadata": {
    "id": "_iT1hdZcAM7v"
   },
   "source": [
    "A function which generates a random distance in kilometers from the students' location to NYU campus given a state input is given.\n",
    "\n",
    "Insert a new column with this information to your dataframe. Give it a descriptive and easy to type name."
   ]
  },
  {
   "cell_type": "code",
   "execution_count": 48,
   "metadata": {
    "id": "AXNKlIne-hDS"
   },
   "outputs": [],
   "source": [
    "import random"
   ]
  },
  {
   "cell_type": "code",
   "execution_count": 49,
   "metadata": {
    "id": "0Y0-0jvdPs29"
   },
   "outputs": [],
   "source": [
    "# Given: Random generator of approximate distance from students' location to NYU campus\n",
    "def get_dist(state):\n",
    "  \n",
    "  if state == \"New York\":\n",
    "    dist = random.randint(10, 70)\n",
    "    return dist\n",
    "  elif state == \"New Jersey\":\n",
    "    dist = random.randint(10, 30)\n",
    "    return dist\n",
    "  elif state == \"North Carolina\":\n",
    "    dist = random.randint(800, 850)\n",
    "    return dist\n",
    "\n",
    "  elif state == \"Wisconsin\":\n",
    "    dist = random.randint(1500, 1550)\n",
    "    return dist"
   ]
  },
  {
   "cell_type": "markdown",
   "metadata": {
    "id": "7qYwL3Ii_3P7"
   },
   "source": [
    "\n",
    "Hint: \n",
    "\n",
    "1.   You can initialize an empty list\n",
    "2.   Using a for loop, you can loop through the appropriate dataframe column (recall that Pandas dataframe objects can act like lists so this is valid)\n",
    "3.   Inside the loop, perform your function to each item in the list\n",
    "4.   Append the result to your initialized list\n",
    "5.   Once you have your list, perform add column with this new info\n",
    "\n",
    "Alternatively, there is a less verbose way of completing this task. You can achieve this result with a one-line piece of code.\n",
    "\n",
    "If you have another way to add this information, it is very welcomed.\n"
   ]
  },
  {
   "cell_type": "code",
   "execution_count": 50,
   "metadata": {
    "id": "5tq_iC2LPlwS"
   },
   "outputs": [],
   "source": [
    "random.seed(1831) # Please keep this line of code here; NYU was founded in 1831"
   ]
  },
  {
   "cell_type": "code",
   "execution_count": 51,
   "metadata": {
    "id": "6wqTYcfjAkhS"
   },
   "outputs": [
    {
     "name": "stdout",
     "output_type": "stream",
     "text": [
      "['New York', 'North Carolina', 'New York', 'New York', 'New York', 'New York', 'New York', 'New York', 'New York', 'New York', 'New Jersey', 'Wisconsin', 'New Jersey', 'New York', 'New York']\n",
      "    Random Distance\n",
      "0                42\n",
      "1               845\n",
      "2                64\n",
      "3                48\n",
      "4                52\n",
      "5                57\n",
      "6                55\n",
      "7                13\n",
      "8                17\n",
      "9                42\n",
      "10               30\n",
      "11             1520\n",
      "12               10\n",
      "13               20\n",
      "14               23\n"
     ]
    },
    {
     "name": "stderr",
     "output_type": "stream",
     "text": [
      "/tmp/ipykernel_53/4251297996.py:7: UserWarning: Pandas doesn't allow columns to be created via a new attribute name - see https://pandas.pydata.org/pandas-docs/stable/indexing.html#attribute-access\n",
      "  df.rand = pd.DataFrame(rand_dist, columns=['Random Distance'])\n"
     ]
    }
   ],
   "source": [
    "state = df[\"Locations\"].values.tolist()\n",
    "print(state)\n",
    "rand_dist = []\n",
    "for value in state:\n",
    "    df_values = get_dist(value)\n",
    "    rand_dist.append(df_values)\n",
    "df.rand = pd.DataFrame(rand_dist, columns=['Random Distance'])\n",
    "\n",
    "print(df.rand)"
   ]
  },
  {
   "cell_type": "code",
   "execution_count": 52,
   "metadata": {
    "id": "9NwkJewcE3b5"
   },
   "outputs": [
    {
     "name": "stdout",
     "output_type": "stream",
     "text": [
      "       Names of Students       Locations  Random Distance\n",
      "0             Oceana Zhu        New York               42\n",
      "1           Justin Huang  North Carolina              845\n",
      "2     Julia Moosikasuwan        New York               64\n",
      "3               Jason Ng        New York               48\n",
      "4       Labiba Siddiquei        New York               52\n",
      "5         Isaiah Adeleke        New York               57\n",
      "6         Hannah Van Son        New York               55\n",
      "7   Gulchehra Davranova         New York               13\n",
      "8       Zabelle Bobelian        New York               17\n",
      "9           Jonathan Yap        New York               42\n",
      "10           Catelyn Yam      New Jersey               30\n",
      "11     Bethany L Wareing       Wisconsin             1520\n",
      "12    Josiah St Bernard       New Jersey               10\n",
      "13            Instructor        New York               20\n",
      "14    Teaching Assistant        New York               23\n"
     ]
    }
   ],
   "source": [
    "names_df['Random Distance'] = df.rand\n",
    "print(names_df)"
   ]
  },
  {
   "cell_type": "markdown",
   "metadata": {
    "id": "KHPLC-gdAoWM"
   },
   "source": [
    "# Part 2: Exploring your dataframe"
   ]
  },
  {
   "cell_type": "markdown",
   "metadata": {
    "id": "oB_vy_CDF3FX"
   },
   "source": [
    "## Sorting and filtering data"
   ]
  },
  {
   "cell_type": "markdown",
   "metadata": {
    "id": "KuwFWpxAL4m9"
   },
   "source": [
    "Display everyone in your newly made dataframe"
   ]
  },
  {
   "cell_type": "code",
   "execution_count": 53,
   "metadata": {
    "id": "Rt1Zn6gwL2ML"
   },
   "outputs": [
    {
     "name": "stdout",
     "output_type": "stream",
     "text": [
      "       Names of Students       Locations  Random Distance\n",
      "0             Oceana Zhu        New York               42\n",
      "1           Justin Huang  North Carolina              845\n",
      "2     Julia Moosikasuwan        New York               64\n",
      "3               Jason Ng        New York               48\n",
      "4       Labiba Siddiquei        New York               52\n",
      "5         Isaiah Adeleke        New York               57\n",
      "6         Hannah Van Son        New York               55\n",
      "7   Gulchehra Davranova         New York               13\n",
      "8       Zabelle Bobelian        New York               17\n",
      "9           Jonathan Yap        New York               42\n",
      "10           Catelyn Yam      New Jersey               30\n",
      "11     Bethany L Wareing       Wisconsin             1520\n",
      "12    Josiah St Bernard       New Jersey               10\n",
      "13            Instructor        New York               20\n",
      "14    Teaching Assistant        New York               23\n"
     ]
    }
   ],
   "source": [
    "print(df)"
   ]
  },
  {
   "cell_type": "markdown",
   "metadata": {
    "id": "rRxTwzgjMA2h"
   },
   "source": [
    "What is the shape of the dataframe? How many observations are there? How many variables are there?\n",
    "\n",
    "Write your answer through inspection and also confirm with a built-in function."
   ]
  },
  {
   "cell_type": "code",
   "execution_count": 54,
   "metadata": {
    "id": "Zjs61IoOtMga"
   },
   "outputs": [
    {
     "data": {
      "text/plain": [
       "(15, 3)"
      ]
     },
     "execution_count": 54,
     "metadata": {},
     "output_type": "execute_result"
    }
   ],
   "source": [
    "#shape of the dataframe\n",
    "df.shape"
   ]
  },
  {
   "cell_type": "code",
   "execution_count": 55,
   "metadata": {},
   "outputs": [
    {
     "data": {
      "text/plain": [
       "15"
      ]
     },
     "execution_count": 55,
     "metadata": {},
     "output_type": "execute_result"
    }
   ],
   "source": [
    "#number of obervations\n",
    "df.shape[0]"
   ]
  },
  {
   "cell_type": "code",
   "execution_count": 56,
   "metadata": {},
   "outputs": [
    {
     "data": {
      "text/plain": [
       "3"
      ]
     },
     "execution_count": 56,
     "metadata": {},
     "output_type": "execute_result"
    }
   ],
   "source": [
    "#number of variables\n",
    "df.shape[1]"
   ]
  },
  {
   "cell_type": "markdown",
   "metadata": {},
   "source": [
    "Conclusions: The shape of the data frame is (13,3). There are 13 observations and 3 variables. "
   ]
  },
  {
   "cell_type": "code",
   "execution_count": 57,
   "metadata": {
    "id": "uVfhe-nxoyg5"
   },
   "outputs": [
    {
     "data": {
      "text/html": [
       "<div>\n",
       "<style scoped>\n",
       "    .dataframe tbody tr th:only-of-type {\n",
       "        vertical-align: middle;\n",
       "    }\n",
       "\n",
       "    .dataframe tbody tr th {\n",
       "        vertical-align: top;\n",
       "    }\n",
       "\n",
       "    .dataframe thead th {\n",
       "        text-align: right;\n",
       "    }\n",
       "</style>\n",
       "<table border=\"1\" class=\"dataframe\">\n",
       "  <thead>\n",
       "    <tr style=\"text-align: right;\">\n",
       "      <th></th>\n",
       "      <th>Random Distance</th>\n",
       "    </tr>\n",
       "  </thead>\n",
       "  <tbody>\n",
       "    <tr>\n",
       "      <th>count</th>\n",
       "      <td>15.000000</td>\n",
       "    </tr>\n",
       "    <tr>\n",
       "      <th>mean</th>\n",
       "      <td>189.200000</td>\n",
       "    </tr>\n",
       "    <tr>\n",
       "      <th>std</th>\n",
       "      <td>423.317544</td>\n",
       "    </tr>\n",
       "    <tr>\n",
       "      <th>min</th>\n",
       "      <td>10.000000</td>\n",
       "    </tr>\n",
       "    <tr>\n",
       "      <th>25%</th>\n",
       "      <td>21.500000</td>\n",
       "    </tr>\n",
       "    <tr>\n",
       "      <th>50%</th>\n",
       "      <td>42.000000</td>\n",
       "    </tr>\n",
       "    <tr>\n",
       "      <th>75%</th>\n",
       "      <td>56.000000</td>\n",
       "    </tr>\n",
       "    <tr>\n",
       "      <th>max</th>\n",
       "      <td>1520.000000</td>\n",
       "    </tr>\n",
       "  </tbody>\n",
       "</table>\n",
       "</div>"
      ],
      "text/plain": [
       "       Random Distance\n",
       "count        15.000000\n",
       "mean        189.200000\n",
       "std         423.317544\n",
       "min          10.000000\n",
       "25%          21.500000\n",
       "50%          42.000000\n",
       "75%          56.000000\n",
       "max        1520.000000"
      ]
     },
     "execution_count": 57,
     "metadata": {},
     "output_type": "execute_result"
    }
   ],
   "source": [
    "# Given: Run this code and observe\n",
    "df.describe()"
   ]
  },
  {
   "cell_type": "markdown",
   "metadata": {
    "id": "M_67Hl4OZl5e"
   },
   "source": [
    "Show dataframe when you filter local people (people with \"New York\" as their location) and non-local people (people based in states other than \"New York\")"
   ]
  },
  {
   "cell_type": "code",
   "execution_count": 58,
   "metadata": {
    "id": "2NQDxtEav90v"
   },
   "outputs": [
    {
     "name": "stdout",
     "output_type": "stream",
     "text": [
      "       Names of Students Locations  Random Distance\n",
      "0             Oceana Zhu  New York               42\n",
      "2     Julia Moosikasuwan  New York               64\n",
      "3               Jason Ng  New York               48\n",
      "4       Labiba Siddiquei  New York               52\n",
      "5         Isaiah Adeleke  New York               57\n",
      "6         Hannah Van Son  New York               55\n",
      "7   Gulchehra Davranova   New York               13\n",
      "8       Zabelle Bobelian  New York               17\n",
      "9           Jonathan Yap  New York               42\n",
      "13            Instructor  New York               20\n",
      "14    Teaching Assistant  New York               23\n"
     ]
    }
   ],
   "source": [
    "#New York people\n",
    "ny_df = df[df[\"Locations\"].str.contains('New York')]\n",
    "print(ny_df)"
   ]
  },
  {
   "cell_type": "code",
   "execution_count": 59,
   "metadata": {
    "id": "GNc-q72marMa"
   },
   "outputs": [
    {
     "name": "stdout",
     "output_type": "stream",
     "text": [
      "     Names of Students       Locations  Random Distance\n",
      "1         Justin Huang  North Carolina              845\n",
      "10         Catelyn Yam      New Jersey               30\n",
      "11   Bethany L Wareing       Wisconsin             1520\n",
      "12  Josiah St Bernard       New Jersey               10\n"
     ]
    }
   ],
   "source": [
    "#Non-New York people\n",
    "nny_df = df[~df[\"Locations\"].str.contains('New York')]\n",
    "print(nny_df)"
   ]
  },
  {
   "cell_type": "markdown",
   "metadata": {
    "id": "N4f8NT1jb-aB"
   },
   "source": [
    "Show people who are located within 30 km (inclusive) of NYU or more than 300 km (inclusive)."
   ]
  },
  {
   "cell_type": "code",
   "execution_count": 60,
   "metadata": {
    "id": "QHe4RGbLdo2E"
   },
   "outputs": [
    {
     "data": {
      "text/html": [
       "<div>\n",
       "<style scoped>\n",
       "    .dataframe tbody tr th:only-of-type {\n",
       "        vertical-align: middle;\n",
       "    }\n",
       "\n",
       "    .dataframe tbody tr th {\n",
       "        vertical-align: top;\n",
       "    }\n",
       "\n",
       "    .dataframe thead th {\n",
       "        text-align: right;\n",
       "    }\n",
       "</style>\n",
       "<table border=\"1\" class=\"dataframe\">\n",
       "  <thead>\n",
       "    <tr style=\"text-align: right;\">\n",
       "      <th></th>\n",
       "      <th>Names of Students</th>\n",
       "      <th>Locations</th>\n",
       "      <th>Random Distance</th>\n",
       "    </tr>\n",
       "  </thead>\n",
       "  <tbody>\n",
       "    <tr>\n",
       "      <th>7</th>\n",
       "      <td>Gulchehra Davranova</td>\n",
       "      <td>New York</td>\n",
       "      <td>13</td>\n",
       "    </tr>\n",
       "    <tr>\n",
       "      <th>8</th>\n",
       "      <td>Zabelle Bobelian</td>\n",
       "      <td>New York</td>\n",
       "      <td>17</td>\n",
       "    </tr>\n",
       "    <tr>\n",
       "      <th>10</th>\n",
       "      <td>Catelyn Yam</td>\n",
       "      <td>New Jersey</td>\n",
       "      <td>30</td>\n",
       "    </tr>\n",
       "    <tr>\n",
       "      <th>12</th>\n",
       "      <td>Josiah St Bernard</td>\n",
       "      <td>New Jersey</td>\n",
       "      <td>10</td>\n",
       "    </tr>\n",
       "    <tr>\n",
       "      <th>13</th>\n",
       "      <td>Instructor</td>\n",
       "      <td>New York</td>\n",
       "      <td>20</td>\n",
       "    </tr>\n",
       "    <tr>\n",
       "      <th>14</th>\n",
       "      <td>Teaching Assistant</td>\n",
       "      <td>New York</td>\n",
       "      <td>23</td>\n",
       "    </tr>\n",
       "  </tbody>\n",
       "</table>\n",
       "</div>"
      ],
      "text/plain": [
       "       Names of Students   Locations  Random Distance\n",
       "7   Gulchehra Davranova     New York               13\n",
       "8       Zabelle Bobelian    New York               17\n",
       "10           Catelyn Yam  New Jersey               30\n",
       "12    Josiah St Bernard   New Jersey               10\n",
       "13            Instructor    New York               20\n",
       "14    Teaching Assistant    New York               23"
      ]
     },
     "execution_count": 60,
     "metadata": {},
     "output_type": "execute_result"
    }
   ],
   "source": [
    "df[ df['Random Distance'] <=30 ]"
   ]
  },
  {
   "cell_type": "markdown",
   "metadata": {
    "id": "aRntTtpmdVaT"
   },
   "source": [
    "Sort people by distance in ascending order (shortest to longest distance)"
   ]
  },
  {
   "cell_type": "code",
   "execution_count": 61,
   "metadata": {
    "id": "vhpcPmtwv8b8"
   },
   "outputs": [
    {
     "data": {
      "text/html": [
       "<div>\n",
       "<style scoped>\n",
       "    .dataframe tbody tr th:only-of-type {\n",
       "        vertical-align: middle;\n",
       "    }\n",
       "\n",
       "    .dataframe tbody tr th {\n",
       "        vertical-align: top;\n",
       "    }\n",
       "\n",
       "    .dataframe thead th {\n",
       "        text-align: right;\n",
       "    }\n",
       "</style>\n",
       "<table border=\"1\" class=\"dataframe\">\n",
       "  <thead>\n",
       "    <tr style=\"text-align: right;\">\n",
       "      <th></th>\n",
       "      <th>Names of Students</th>\n",
       "      <th>Locations</th>\n",
       "      <th>Random Distance</th>\n",
       "    </tr>\n",
       "  </thead>\n",
       "  <tbody>\n",
       "    <tr>\n",
       "      <th>12</th>\n",
       "      <td>Josiah St Bernard</td>\n",
       "      <td>New Jersey</td>\n",
       "      <td>10</td>\n",
       "    </tr>\n",
       "    <tr>\n",
       "      <th>7</th>\n",
       "      <td>Gulchehra Davranova</td>\n",
       "      <td>New York</td>\n",
       "      <td>13</td>\n",
       "    </tr>\n",
       "    <tr>\n",
       "      <th>8</th>\n",
       "      <td>Zabelle Bobelian</td>\n",
       "      <td>New York</td>\n",
       "      <td>17</td>\n",
       "    </tr>\n",
       "    <tr>\n",
       "      <th>13</th>\n",
       "      <td>Instructor</td>\n",
       "      <td>New York</td>\n",
       "      <td>20</td>\n",
       "    </tr>\n",
       "    <tr>\n",
       "      <th>14</th>\n",
       "      <td>Teaching Assistant</td>\n",
       "      <td>New York</td>\n",
       "      <td>23</td>\n",
       "    </tr>\n",
       "    <tr>\n",
       "      <th>10</th>\n",
       "      <td>Catelyn Yam</td>\n",
       "      <td>New Jersey</td>\n",
       "      <td>30</td>\n",
       "    </tr>\n",
       "    <tr>\n",
       "      <th>0</th>\n",
       "      <td>Oceana Zhu</td>\n",
       "      <td>New York</td>\n",
       "      <td>42</td>\n",
       "    </tr>\n",
       "    <tr>\n",
       "      <th>9</th>\n",
       "      <td>Jonathan Yap</td>\n",
       "      <td>New York</td>\n",
       "      <td>42</td>\n",
       "    </tr>\n",
       "    <tr>\n",
       "      <th>3</th>\n",
       "      <td>Jason Ng</td>\n",
       "      <td>New York</td>\n",
       "      <td>48</td>\n",
       "    </tr>\n",
       "    <tr>\n",
       "      <th>4</th>\n",
       "      <td>Labiba Siddiquei</td>\n",
       "      <td>New York</td>\n",
       "      <td>52</td>\n",
       "    </tr>\n",
       "    <tr>\n",
       "      <th>6</th>\n",
       "      <td>Hannah Van Son</td>\n",
       "      <td>New York</td>\n",
       "      <td>55</td>\n",
       "    </tr>\n",
       "    <tr>\n",
       "      <th>5</th>\n",
       "      <td>Isaiah Adeleke</td>\n",
       "      <td>New York</td>\n",
       "      <td>57</td>\n",
       "    </tr>\n",
       "    <tr>\n",
       "      <th>2</th>\n",
       "      <td>Julia Moosikasuwan</td>\n",
       "      <td>New York</td>\n",
       "      <td>64</td>\n",
       "    </tr>\n",
       "    <tr>\n",
       "      <th>1</th>\n",
       "      <td>Justin Huang</td>\n",
       "      <td>North Carolina</td>\n",
       "      <td>845</td>\n",
       "    </tr>\n",
       "    <tr>\n",
       "      <th>11</th>\n",
       "      <td>Bethany L Wareing</td>\n",
       "      <td>Wisconsin</td>\n",
       "      <td>1520</td>\n",
       "    </tr>\n",
       "  </tbody>\n",
       "</table>\n",
       "</div>"
      ],
      "text/plain": [
       "       Names of Students       Locations  Random Distance\n",
       "12    Josiah St Bernard       New Jersey               10\n",
       "7   Gulchehra Davranova         New York               13\n",
       "8       Zabelle Bobelian        New York               17\n",
       "13            Instructor        New York               20\n",
       "14    Teaching Assistant        New York               23\n",
       "10           Catelyn Yam      New Jersey               30\n",
       "0             Oceana Zhu        New York               42\n",
       "9           Jonathan Yap        New York               42\n",
       "3               Jason Ng        New York               48\n",
       "4       Labiba Siddiquei        New York               52\n",
       "6         Hannah Van Son        New York               55\n",
       "5         Isaiah Adeleke        New York               57\n",
       "2     Julia Moosikasuwan        New York               64\n",
       "1           Justin Huang  North Carolina              845\n",
       "11     Bethany L Wareing       Wisconsin             1520"
      ]
     },
     "execution_count": 61,
     "metadata": {},
     "output_type": "execute_result"
    }
   ],
   "source": [
    "df.nsmallest(15, 'Random Distance')"
   ]
  },
  {
   "cell_type": "markdown",
   "metadata": {
    "id": "TJ8bisxdGEjJ"
   },
   "source": [
    "## Editting Entries"
   ]
  },
  {
   "cell_type": "markdown",
   "metadata": {
    "id": "nfC5xHdofClj"
   },
   "source": [
    "Find the datapoint with the name \"Instructor\" and \"Teaching Assistant\" (use Python to locate it)\n",
    "\n",
    "Edit the distance under these two entries to be 0. "
   ]
  },
  {
   "cell_type": "code",
   "execution_count": 62,
   "metadata": {
    "id": "oBuIGeMJI3Qo"
   },
   "outputs": [
    {
     "name": "stdout",
     "output_type": "stream",
     "text": [
      "[13]\n"
     ]
    }
   ],
   "source": [
    "print(df[df['Names of Students']=='Instructor'].index.values)"
   ]
  },
  {
   "cell_type": "code",
   "execution_count": 63,
   "metadata": {
    "id": "7Xq_18hquAM8"
   },
   "outputs": [
    {
     "name": "stdout",
     "output_type": "stream",
     "text": [
      "[14]\n"
     ]
    }
   ],
   "source": [
    "print(df[df['Names of Students']=='Teaching Assistant'].index.values)"
   ]
  },
  {
   "cell_type": "code",
   "execution_count": 64,
   "metadata": {
    "id": "JSTRoEP8JEZc"
   },
   "outputs": [],
   "source": [
    "df.loc[13,\"Random Distance\"] = 0\n",
    "df.loc[14,\"Random Distance\"] = 0"
   ]
  },
  {
   "cell_type": "markdown",
   "metadata": {
    "id": "qHpbX21ug9of"
   },
   "source": [
    "## Math Operations on Data"
   ]
  },
  {
   "cell_type": "markdown",
   "metadata": {
    "id": "baVq0COg_pyo"
   },
   "source": [
    "Convert the distance from kilometers to any unit of distance you wish. Include the conversion factor as a comment. Add this new information as a column to your dataframe.\n",
    "\n"
   ]
  },
  {
   "cell_type": "code",
   "execution_count": 65,
   "metadata": {
    "id": "69nUVLrchD2P"
   },
   "outputs": [],
   "source": [
    "#km to m (multiply by 1000)\n",
    "df['Random Distance in m'] = df['Random Distance'].apply(lambda x: x*1000)"
   ]
  },
  {
   "cell_type": "markdown",
   "metadata": {
    "id": "BSvNH5kFFu7B"
   },
   "source": [
    "## Deleting Data - Rows & Columns"
   ]
  },
  {
   "cell_type": "markdown",
   "metadata": {
    "id": "fjCBX4rnACPA"
   },
   "source": [
    "Before you go to the next step, delete the column you just made."
   ]
  },
  {
   "cell_type": "code",
   "execution_count": 66,
   "metadata": {
    "id": "YDAdAqK3ADYc"
   },
   "outputs": [],
   "source": [
    "del df['Random Distance in m']"
   ]
  },
  {
   "cell_type": "markdown",
   "metadata": {
    "id": "jDXYtZBLF3kN"
   },
   "source": [
    "Before moving on to the next step, delete the entries \"Instructor\" and \"Teaching Assistant\" (use Python to find these entries)"
   ]
  },
  {
   "cell_type": "code",
   "execution_count": 67,
   "metadata": {
    "id": "qqFJrAtdGeY5"
   },
   "outputs": [
    {
     "name": "stdout",
     "output_type": "stream",
     "text": [
      "[13]\n"
     ]
    }
   ],
   "source": [
    "print(df[df['Names of Students']=='Instructor'].index.values)"
   ]
  },
  {
   "cell_type": "code",
   "execution_count": 68,
   "metadata": {},
   "outputs": [
    {
     "name": "stdout",
     "output_type": "stream",
     "text": [
      "[14]\n"
     ]
    }
   ],
   "source": [
    "print(df[df['Names of Students']=='Teaching Assistant'].index.values)"
   ]
  },
  {
   "cell_type": "code",
   "execution_count": 69,
   "metadata": {
    "id": "Fq8cf8dqGkoO"
   },
   "outputs": [],
   "source": [
    "df=df.drop([df.index[13], df.index[14]])"
   ]
  },
  {
   "cell_type": "markdown",
   "metadata": {
    "id": "OR_QnhnVGMAw"
   },
   "source": [
    "# Part 3: Performing Grouping for data analysis"
   ]
  },
  {
   "cell_type": "markdown",
   "metadata": {
    "id": "MvOK4BpFmyz7"
   },
   "source": [
    "We want to find the average distance for students in each state. \n",
    "\n",
    "Another way to think about it: What is the average distance that a New York student lives away from NYU? How about a New Jersey/North Carolina/Wisconsin student? "
   ]
  },
  {
   "cell_type": "markdown",
   "metadata": {
    "id": "MiPN-RKnnsxo"
   },
   "source": [
    "Create a groupby object for your dataframe based on the location of the students"
   ]
  },
  {
   "cell_type": "code",
   "execution_count": 70,
   "metadata": {
    "id": "ObPzdsPTnsDX"
   },
   "outputs": [],
   "source": [
    "gb_df=df.groupby(\"Locations\")"
   ]
  },
  {
   "cell_type": "code",
   "execution_count": 71,
   "metadata": {
    "id": "vjfUSGGQofS8"
   },
   "outputs": [
    {
     "data": {
      "text/html": [
       "<div>\n",
       "<style scoped>\n",
       "    .dataframe tbody tr th:only-of-type {\n",
       "        vertical-align: middle;\n",
       "    }\n",
       "\n",
       "    .dataframe tbody tr th {\n",
       "        vertical-align: top;\n",
       "    }\n",
       "\n",
       "    .dataframe thead tr th {\n",
       "        text-align: left;\n",
       "    }\n",
       "\n",
       "    .dataframe thead tr:last-of-type th {\n",
       "        text-align: right;\n",
       "    }\n",
       "</style>\n",
       "<table border=\"1\" class=\"dataframe\">\n",
       "  <thead>\n",
       "    <tr>\n",
       "      <th></th>\n",
       "      <th colspan=\"8\" halign=\"left\">Random Distance</th>\n",
       "    </tr>\n",
       "    <tr>\n",
       "      <th></th>\n",
       "      <th>count</th>\n",
       "      <th>mean</th>\n",
       "      <th>std</th>\n",
       "      <th>min</th>\n",
       "      <th>25%</th>\n",
       "      <th>50%</th>\n",
       "      <th>75%</th>\n",
       "      <th>max</th>\n",
       "    </tr>\n",
       "    <tr>\n",
       "      <th>Locations</th>\n",
       "      <th></th>\n",
       "      <th></th>\n",
       "      <th></th>\n",
       "      <th></th>\n",
       "      <th></th>\n",
       "      <th></th>\n",
       "      <th></th>\n",
       "      <th></th>\n",
       "    </tr>\n",
       "  </thead>\n",
       "  <tbody>\n",
       "    <tr>\n",
       "      <th>New Jersey</th>\n",
       "      <td>2.0</td>\n",
       "      <td>20.000000</td>\n",
       "      <td>14.142136</td>\n",
       "      <td>10.0</td>\n",
       "      <td>15.0</td>\n",
       "      <td>20.0</td>\n",
       "      <td>25.0</td>\n",
       "      <td>30.0</td>\n",
       "    </tr>\n",
       "    <tr>\n",
       "      <th>New York</th>\n",
       "      <td>9.0</td>\n",
       "      <td>43.333333</td>\n",
       "      <td>17.549929</td>\n",
       "      <td>13.0</td>\n",
       "      <td>42.0</td>\n",
       "      <td>48.0</td>\n",
       "      <td>55.0</td>\n",
       "      <td>64.0</td>\n",
       "    </tr>\n",
       "    <tr>\n",
       "      <th>North Carolina</th>\n",
       "      <td>1.0</td>\n",
       "      <td>845.000000</td>\n",
       "      <td>NaN</td>\n",
       "      <td>845.0</td>\n",
       "      <td>845.0</td>\n",
       "      <td>845.0</td>\n",
       "      <td>845.0</td>\n",
       "      <td>845.0</td>\n",
       "    </tr>\n",
       "    <tr>\n",
       "      <th>Wisconsin</th>\n",
       "      <td>1.0</td>\n",
       "      <td>1520.000000</td>\n",
       "      <td>NaN</td>\n",
       "      <td>1520.0</td>\n",
       "      <td>1520.0</td>\n",
       "      <td>1520.0</td>\n",
       "      <td>1520.0</td>\n",
       "      <td>1520.0</td>\n",
       "    </tr>\n",
       "  </tbody>\n",
       "</table>\n",
       "</div>"
      ],
      "text/plain": [
       "               Random Distance                                          \\\n",
       "                         count         mean        std     min     25%   \n",
       "Locations                                                                \n",
       "New Jersey                 2.0    20.000000  14.142136    10.0    15.0   \n",
       "New York                   9.0    43.333333  17.549929    13.0    42.0   \n",
       "North Carolina             1.0   845.000000        NaN   845.0   845.0   \n",
       "Wisconsin                  1.0  1520.000000        NaN  1520.0  1520.0   \n",
       "\n",
       "                                        \n",
       "                   50%     75%     max  \n",
       "Locations                               \n",
       "New Jersey        20.0    25.0    30.0  \n",
       "New York          48.0    55.0    64.0  \n",
       "North Carolina   845.0   845.0   845.0  \n",
       "Wisconsin       1520.0  1520.0  1520.0  "
      ]
     },
     "execution_count": 71,
     "metadata": {},
     "output_type": "execute_result"
    }
   ],
   "source": [
    "# Given: Run the code and observe\n",
    "gb_df.describe()"
   ]
  },
  {
   "cell_type": "markdown",
   "metadata": {
    "id": "4tNMjD49o-B3"
   },
   "source": [
    "Using the groupby object you have made, aggregate on it using the appropriate variable and function"
   ]
  },
  {
   "cell_type": "code",
   "execution_count": 72,
   "metadata": {
    "id": "TRp26g10f7Wu"
   },
   "outputs": [
    {
     "name": "stdout",
     "output_type": "stream",
     "text": [
      "                Random Distance\n",
      "Locations                      \n",
      "New Jersey            20.000000\n",
      "New York              43.333333\n",
      "North Carolina       845.000000\n",
      "Wisconsin           1520.000000\n"
     ]
    },
    {
     "name": "stderr",
     "output_type": "stream",
     "text": [
      "/tmp/ipykernel_53/4281976541.py:1: FutureWarning: The default value of numeric_only in DataFrameGroupBy.mean is deprecated. In a future version, numeric_only will default to False. Either specify numeric_only or select only columns which should be valid for the function.\n",
      "  avg_df=df.groupby('Locations').agg(\"mean\")\n"
     ]
    }
   ],
   "source": [
    "avg_df=df.groupby('Locations').agg(\"mean\")\n",
    "print(avg_df)"
   ]
  },
  {
   "cell_type": "markdown",
   "metadata": {
    "id": "pBPJ0o38BcAP"
   },
   "source": [
    "Display as a dataframe the maximum distance any student from each state needs to travel to get to NYU"
   ]
  },
  {
   "cell_type": "code",
   "execution_count": 73,
   "metadata": {
    "id": "-xCQhOD5AcQm"
   },
   "outputs": [
    {
     "name": "stdout",
     "output_type": "stream",
     "text": [
      "                 Names of Students  Random Distance\n",
      "Locations                                          \n",
      "New Jersey      Josiah St Bernard                30\n",
      "New York          Zabelle Bobelian               64\n",
      "North Carolina        Justin Huang              845\n",
      "Wisconsin        Bethany L Wareing             1520\n"
     ]
    }
   ],
   "source": [
    "max_df=df.groupby('Locations').agg(\"max\")\n",
    "print(max_df)"
   ]
  },
  {
   "cell_type": "markdown",
   "metadata": {
    "id": "QiUEdRgOGYBn"
   },
   "source": [
    "# Part 4: Saving your new data"
   ]
  },
  {
   "cell_type": "markdown",
   "metadata": {
    "id": "WEjVAzryfkD3"
   },
   "source": [
    "Save your new dataframe (the non group-by non aggregate one; the one you constructed in the beginning) to a .csv file"
   ]
  },
  {
   "cell_type": "code",
   "execution_count": 74,
   "metadata": {
    "id": "-Ym8sdS8wXBC"
   },
   "outputs": [
    {
     "data": {
      "text/plain": [
       "',Names of Students,Locations,Random Distance\\n0,Oceana Zhu,New York,42\\n1,Justin Huang,North Carolina,845\\n2,Julia Moosikasuwan,New York,64\\n3,Jason Ng,New York,48\\n4,Labiba Siddiquei,New York,52\\n5,Isaiah Adeleke,New York,57\\n6,Hannah Van Son,New York,55\\n7,Gulchehra Davranova ,New York,13\\n8,Zabelle Bobelian,New York,17\\n9,Jonathan Yap,New York,42\\n10,Catelyn Yam,New Jersey,30\\n11,Bethany L Wareing,Wisconsin,1520\\n12,Josiah St Bernard ,New Jersey,10\\n'"
      ]
     },
     "execution_count": 74,
     "metadata": {},
     "output_type": "execute_result"
    }
   ],
   "source": [
    "df.to_csv(path_or_buf=None, sep=',', na_rep='', float_format=None, columns=None, header=True, index=True, index_label=None, mode='w', encoding=None, compression='infer', quoting=None, quotechar='\"', lineterminator=None, chunksize=None, date_format=None, doublequote=True, escapechar=None, decimal='.', errors='strict', storage_options=None)"
   ]
  },
  {
   "cell_type": "markdown",
   "metadata": {
    "id": "9ZRFJncJGGF7"
   },
   "source": [
    "Optional: Also save your new dataframe as an excel file\n",
    "\n",
    "Hint: https://pandas.pydata.org/docs/reference/api/pandas.DataFrame.to_excel.html"
   ]
  },
  {
   "cell_type": "markdown",
   "metadata": {
    "id": "rJRDyuvrGJGb"
   },
   "source": [
    "#I would've done this except I couldn't figure out the excel_writer part "
   ]
  }
 ],
 "metadata": {
  "colab": {
   "collapsed_sections": [
    "FW81DHPy2KUu",
    "a4PfE1oV8MoK",
    "NUDwouq58VIM",
    "OR_QnhnVGMAw",
    "QiUEdRgOGYBn"
   ],
   "provenance": []
  },
  "kernelspec": {
   "display_name": "Python 3 (ipykernel)",
   "language": "python",
   "name": "python3"
  },
  "language_info": {
   "codemirror_mode": {
    "name": "ipython",
    "version": 3
   },
   "file_extension": ".py",
   "mimetype": "text/x-python",
   "name": "python",
   "nbconvert_exporter": "python",
   "pygments_lexer": "ipython3",
   "version": "3.10.6"
  }
 },
 "nbformat": 4,
 "nbformat_minor": 1
}
