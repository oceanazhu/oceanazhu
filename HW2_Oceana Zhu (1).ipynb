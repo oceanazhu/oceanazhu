{
 "cells": [
  {
   "cell_type": "markdown",
   "id": "6635c2bb",
   "metadata": {},
   "source": [
    "# Part 0: Name, NetID, Collaborators\n",
    "\n",
    "Name: Oceana Zhu\n",
    "NetID: oz2060"
   ]
  },
  {
   "cell_type": "markdown",
   "id": "a1a281e8",
   "metadata": {},
   "source": [
    "# Part 1"
   ]
  },
  {
   "cell_type": "code",
   "execution_count": 38,
   "id": "8b22e3db",
   "metadata": {},
   "outputs": [],
   "source": [
    "import pandas as pd\n",
    "import numpy as np\n",
    "import seaborn as sns\n",
    "import matplotlib.pyplot as plt\n",
    "\n",
    "from sklearn.linear_model import LinearRegression\n",
    "from sklearn.model_selection import train_test_split\n",
    "from sklearn.metrics import mean_squared_error as mse\n",
    "#pip install scikit-learn, pip install seaborn"
   ]
  },
  {
   "cell_type": "code",
   "execution_count": 2,
   "id": "ee8ee4c2",
   "metadata": {},
   "outputs": [
    {
     "name": "stdout",
     "output_type": "stream",
     "text": [
      "(5000, 26)\n"
     ]
    },
    {
     "data": {
      "text/html": [
       "<div>\n",
       "<style scoped>\n",
       "    .dataframe tbody tr th:only-of-type {\n",
       "        vertical-align: middle;\n",
       "    }\n",
       "\n",
       "    .dataframe tbody tr th {\n",
       "        vertical-align: top;\n",
       "    }\n",
       "\n",
       "    .dataframe thead th {\n",
       "        text-align: right;\n",
       "    }\n",
       "</style>\n",
       "<table border=\"1\" class=\"dataframe\">\n",
       "  <thead>\n",
       "    <tr style=\"text-align: right;\">\n",
       "      <th></th>\n",
       "      <th>CAMIS</th>\n",
       "      <th>DBA</th>\n",
       "      <th>BORO</th>\n",
       "      <th>BUILDING</th>\n",
       "      <th>STREET</th>\n",
       "      <th>ZIPCODE</th>\n",
       "      <th>PHONE</th>\n",
       "      <th>CUISINE.DESCRIPTION</th>\n",
       "      <th>INSPECTION.DATE</th>\n",
       "      <th>ACTION</th>\n",
       "      <th>...</th>\n",
       "      <th>RECORD.DATE</th>\n",
       "      <th>INSPECTION.TYPE</th>\n",
       "      <th>Latitude</th>\n",
       "      <th>Longitude</th>\n",
       "      <th>Community.Board</th>\n",
       "      <th>Council.District</th>\n",
       "      <th>Census.Tract</th>\n",
       "      <th>BIN</th>\n",
       "      <th>BBL</th>\n",
       "      <th>NTA</th>\n",
       "    </tr>\n",
       "  </thead>\n",
       "  <tbody>\n",
       "    <tr>\n",
       "      <th>0</th>\n",
       "      <td>40397190</td>\n",
       "      <td>FRANKIE BOY'S PIZZA &amp; SALAD</td>\n",
       "      <td>Manhattan</td>\n",
       "      <td>1367</td>\n",
       "      <td>BROADWAY</td>\n",
       "      <td>10018</td>\n",
       "      <td>2122684499</td>\n",
       "      <td>Pizza</td>\n",
       "      <td>08/01/2019</td>\n",
       "      <td>Violations were cited in the following area(s).</td>\n",
       "      <td>...</td>\n",
       "      <td>09/18/2019</td>\n",
       "      <td>Cycle Inspection / Initial Inspection</td>\n",
       "      <td>40.751928</td>\n",
       "      <td>-73.987548</td>\n",
       "      <td>105</td>\n",
       "      <td>3</td>\n",
       "      <td>10900</td>\n",
       "      <td>1015245</td>\n",
       "      <td>1.008120e+09</td>\n",
       "      <td>MN17</td>\n",
       "    </tr>\n",
       "    <tr>\n",
       "      <th>1</th>\n",
       "      <td>50052848</td>\n",
       "      <td>FUSION JUICE BAR</td>\n",
       "      <td>Queens</td>\n",
       "      <td>3402</td>\n",
       "      <td>36TH AVE</td>\n",
       "      <td>11106</td>\n",
       "      <td>3477384024</td>\n",
       "      <td>Juice, Smoothies, Fruit Salads</td>\n",
       "      <td>10/18/2018</td>\n",
       "      <td>Violations were cited in the following area(s).</td>\n",
       "      <td>...</td>\n",
       "      <td>09/18/2019</td>\n",
       "      <td>Cycle Inspection / Initial Inspection</td>\n",
       "      <td>40.755386</td>\n",
       "      <td>-73.927226</td>\n",
       "      <td>401</td>\n",
       "      <td>26</td>\n",
       "      <td>5500</td>\n",
       "      <td>4009496</td>\n",
       "      <td>4.006340e+09</td>\n",
       "      <td>QN68</td>\n",
       "    </tr>\n",
       "  </tbody>\n",
       "</table>\n",
       "<p>2 rows × 26 columns</p>\n",
       "</div>"
      ],
      "text/plain": [
       "      CAMIS                          DBA       BORO BUILDING    STREET  \\\n",
       "0  40397190  FRANKIE BOY'S PIZZA & SALAD  Manhattan     1367  BROADWAY   \n",
       "1  50052848             FUSION JUICE BAR     Queens     3402  36TH AVE   \n",
       "\n",
       "   ZIPCODE       PHONE             CUISINE.DESCRIPTION INSPECTION.DATE  \\\n",
       "0    10018  2122684499                           Pizza      08/01/2019   \n",
       "1    11106  3477384024  Juice, Smoothies, Fruit Salads      10/18/2018   \n",
       "\n",
       "                                            ACTION  ... RECORD.DATE  \\\n",
       "0  Violations were cited in the following area(s).  ...  09/18/2019   \n",
       "1  Violations were cited in the following area(s).  ...  09/18/2019   \n",
       "\n",
       "                         INSPECTION.TYPE   Latitude  Longitude  \\\n",
       "0  Cycle Inspection / Initial Inspection  40.751928 -73.987548   \n",
       "1  Cycle Inspection / Initial Inspection  40.755386 -73.927226   \n",
       "\n",
       "  Community.Board Council.District Census.Tract      BIN           BBL   NTA  \n",
       "0             105                3        10900  1015245  1.008120e+09  MN17  \n",
       "1             401               26         5500  4009496  4.006340e+09  QN68  \n",
       "\n",
       "[2 rows x 26 columns]"
      ]
     },
     "execution_count": 2,
     "metadata": {},
     "output_type": "execute_result"
    }
   ],
   "source": [
    "#Question 1\n",
    "nyc_restaurants = pd.read_csv('shared/datasets/NYC_Restaurants_small.csv')\n",
    "\n",
    "print( nyc_restaurants.shape )\n",
    "nyc_restaurants.head(2)"
   ]
  },
  {
   "cell_type": "markdown",
   "id": "03c535b6",
   "metadata": {},
   "source": [
    "There are 5000 observations and 26 variables. Each observation the data collected for the different varibles for a restaurant in New York City. "
   ]
  },
  {
   "cell_type": "code",
   "execution_count": 110,
   "id": "533322b1",
   "metadata": {},
   "outputs": [
    {
     "data": {
      "text/html": [
       "<div>\n",
       "<style scoped>\n",
       "    .dataframe tbody tr th:only-of-type {\n",
       "        vertical-align: middle;\n",
       "    }\n",
       "\n",
       "    .dataframe tbody tr th {\n",
       "        vertical-align: top;\n",
       "    }\n",
       "\n",
       "    .dataframe thead th {\n",
       "        text-align: right;\n",
       "    }\n",
       "</style>\n",
       "<table border=\"1\" class=\"dataframe\">\n",
       "  <thead>\n",
       "    <tr style=\"text-align: right;\">\n",
       "      <th></th>\n",
       "      <th>CAMIS</th>\n",
       "      <th>DBA</th>\n",
       "      <th>BORO</th>\n",
       "      <th>BUILDING</th>\n",
       "      <th>STREET</th>\n",
       "      <th>ZIPCODE</th>\n",
       "      <th>PHONE</th>\n",
       "      <th>CUISINE.DESCRIPTION</th>\n",
       "      <th>INSPECTION.DATE</th>\n",
       "      <th>ACTION</th>\n",
       "      <th>...</th>\n",
       "      <th>RECORD.DATE</th>\n",
       "      <th>INSPECTION.TYPE</th>\n",
       "      <th>Latitude</th>\n",
       "      <th>Longitude</th>\n",
       "      <th>Community.Board</th>\n",
       "      <th>Council.District</th>\n",
       "      <th>Census.Tract</th>\n",
       "      <th>BIN</th>\n",
       "      <th>BBL</th>\n",
       "      <th>NTA</th>\n",
       "    </tr>\n",
       "  </thead>\n",
       "  <tbody>\n",
       "    <tr>\n",
       "      <th>2</th>\n",
       "      <td>50008983</td>\n",
       "      <td>Aita Trattoria</td>\n",
       "      <td>Brooklyn</td>\n",
       "      <td>798A</td>\n",
       "      <td>FRANKLIN AVE</td>\n",
       "      <td>11238</td>\n",
       "      <td>9179662670</td>\n",
       "      <td>Italian</td>\n",
       "      <td>02/03/2018</td>\n",
       "      <td>Violations were cited in the following area(s).</td>\n",
       "      <td>...</td>\n",
       "      <td>09/18/2019</td>\n",
       "      <td>Cycle Inspection / Initial Inspection</td>\n",
       "      <td>40.671109</td>\n",
       "      <td>-73.957819</td>\n",
       "      <td>308</td>\n",
       "      <td>35</td>\n",
       "      <td>21700</td>\n",
       "      <td>3029660</td>\n",
       "      <td>3.011810e+09</td>\n",
       "      <td>BK61</td>\n",
       "    </tr>\n",
       "    <tr>\n",
       "      <th>7</th>\n",
       "      <td>50011343</td>\n",
       "      <td>EMPIRE TACO CHINA</td>\n",
       "      <td>Brooklyn</td>\n",
       "      <td>2807</td>\n",
       "      <td>CROPSEY AVE</td>\n",
       "      <td>11214</td>\n",
       "      <td>7183728888</td>\n",
       "      <td>Tex-Mex</td>\n",
       "      <td>12/05/2016</td>\n",
       "      <td>Violations were cited in the following area(s).</td>\n",
       "      <td>...</td>\n",
       "      <td>09/18/2019</td>\n",
       "      <td>Cycle Inspection / Re-inspection</td>\n",
       "      <td>40.586297</td>\n",
       "      <td>-73.988245</td>\n",
       "      <td>313</td>\n",
       "      <td>47</td>\n",
       "      <td>31400</td>\n",
       "      <td>3346329</td>\n",
       "      <td>3.069160e+09</td>\n",
       "      <td>BK26</td>\n",
       "    </tr>\n",
       "    <tr>\n",
       "      <th>9</th>\n",
       "      <td>50066837</td>\n",
       "      <td>PECKISH</td>\n",
       "      <td>Brooklyn</td>\n",
       "      <td>49</td>\n",
       "      <td>WILLOUGHBY AVE</td>\n",
       "      <td>11205</td>\n",
       "      <td>3476894969</td>\n",
       "      <td>Café/Coffee/Tea</td>\n",
       "      <td>06/29/2019</td>\n",
       "      <td>Violations were cited in the following area(s).</td>\n",
       "      <td>...</td>\n",
       "      <td>09/18/2019</td>\n",
       "      <td>Cycle Inspection / Initial Inspection</td>\n",
       "      <td>40.691625</td>\n",
       "      <td>-73.971123</td>\n",
       "      <td>302</td>\n",
       "      <td>35</td>\n",
       "      <td>18300</td>\n",
       "      <td>3399817</td>\n",
       "      <td>3.020740e+09</td>\n",
       "      <td>BK68</td>\n",
       "    </tr>\n",
       "    <tr>\n",
       "      <th>16</th>\n",
       "      <td>50080626</td>\n",
       "      <td>THE BAD BAGEL</td>\n",
       "      <td>Brooklyn</td>\n",
       "      <td>40</td>\n",
       "      <td>WYCKOFF AVE</td>\n",
       "      <td>11237</td>\n",
       "      <td>9293243130</td>\n",
       "      <td>Bagels/Pretzels</td>\n",
       "      <td>12/28/2018</td>\n",
       "      <td>Violations were cited in the following area(s).</td>\n",
       "      <td>...</td>\n",
       "      <td>09/18/2019</td>\n",
       "      <td>Cycle Inspection / Re-inspection</td>\n",
       "      <td>40.705924</td>\n",
       "      <td>-73.921845</td>\n",
       "      <td>304</td>\n",
       "      <td>34</td>\n",
       "      <td>44700</td>\n",
       "      <td>3072771</td>\n",
       "      <td>3.031990e+09</td>\n",
       "      <td>BK77</td>\n",
       "    </tr>\n",
       "    <tr>\n",
       "      <th>22</th>\n",
       "      <td>50089691</td>\n",
       "      <td>BRUCE &amp; ARMANI GOURMET LOUNGE</td>\n",
       "      <td>Brooklyn</td>\n",
       "      <td>189</td>\n",
       "      <td>WILSON AVE</td>\n",
       "      <td>11237</td>\n",
       "      <td>3474420365</td>\n",
       "      <td>Latin (Cuban, Dominican, Puerto Rican, South &amp;...</td>\n",
       "      <td>08/08/2019</td>\n",
       "      <td>Establishment re-closed by DOHMH</td>\n",
       "      <td>...</td>\n",
       "      <td>09/18/2019</td>\n",
       "      <td>Pre-permit (Operational) / Reopening Inspection</td>\n",
       "      <td>40.699349</td>\n",
       "      <td>-73.923338</td>\n",
       "      <td>304</td>\n",
       "      <td>37</td>\n",
       "      <td>42900</td>\n",
       "      <td>3073814</td>\n",
       "      <td>3.032460e+09</td>\n",
       "      <td>BK77</td>\n",
       "    </tr>\n",
       "  </tbody>\n",
       "</table>\n",
       "<p>5 rows × 26 columns</p>\n",
       "</div>"
      ],
      "text/plain": [
       "       CAMIS                            DBA      BORO BUILDING  \\\n",
       "2   50008983                 Aita Trattoria  Brooklyn     798A   \n",
       "7   50011343              EMPIRE TACO CHINA  Brooklyn     2807   \n",
       "9   50066837                        PECKISH  Brooklyn       49   \n",
       "16  50080626                  THE BAD BAGEL  Brooklyn       40   \n",
       "22  50089691  BRUCE & ARMANI GOURMET LOUNGE  Brooklyn      189   \n",
       "\n",
       "            STREET  ZIPCODE       PHONE  \\\n",
       "2     FRANKLIN AVE    11238  9179662670   \n",
       "7      CROPSEY AVE    11214  7183728888   \n",
       "9   WILLOUGHBY AVE    11205  3476894969   \n",
       "16     WYCKOFF AVE    11237  9293243130   \n",
       "22      WILSON AVE    11237  3474420365   \n",
       "\n",
       "                                  CUISINE.DESCRIPTION INSPECTION.DATE  \\\n",
       "2                                             Italian      02/03/2018   \n",
       "7                                             Tex-Mex      12/05/2016   \n",
       "9                                     Café/Coffee/Tea      06/29/2019   \n",
       "16                                    Bagels/Pretzels      12/28/2018   \n",
       "22  Latin (Cuban, Dominican, Puerto Rican, South &...      08/08/2019   \n",
       "\n",
       "                                             ACTION  ... RECORD.DATE  \\\n",
       "2   Violations were cited in the following area(s).  ...  09/18/2019   \n",
       "7   Violations were cited in the following area(s).  ...  09/18/2019   \n",
       "9   Violations were cited in the following area(s).  ...  09/18/2019   \n",
       "16  Violations were cited in the following area(s).  ...  09/18/2019   \n",
       "22                 Establishment re-closed by DOHMH  ...  09/18/2019   \n",
       "\n",
       "                                    INSPECTION.TYPE   Latitude  Longitude  \\\n",
       "2             Cycle Inspection / Initial Inspection  40.671109 -73.957819   \n",
       "7                  Cycle Inspection / Re-inspection  40.586297 -73.988245   \n",
       "9             Cycle Inspection / Initial Inspection  40.691625 -73.971123   \n",
       "16                 Cycle Inspection / Re-inspection  40.705924 -73.921845   \n",
       "22  Pre-permit (Operational) / Reopening Inspection  40.699349 -73.923338   \n",
       "\n",
       "   Community.Board Council.District Census.Tract      BIN           BBL   NTA  \n",
       "2              308               35        21700  3029660  3.011810e+09  BK61  \n",
       "7              313               47        31400  3346329  3.069160e+09  BK26  \n",
       "9              302               35        18300  3399817  3.020740e+09  BK68  \n",
       "16             304               34        44700  3072771  3.031990e+09  BK77  \n",
       "22             304               37        42900  3073814  3.032460e+09  BK77  \n",
       "\n",
       "[5 rows x 26 columns]"
      ]
     },
     "execution_count": 110,
     "metadata": {},
     "output_type": "execute_result"
    }
   ],
   "source": [
    "#Question 2\n",
    "brooklyn_restaurants = (nyc_restaurants[nyc_restaurants['BORO']=='Brooklyn'])\n",
    "brooklyn_restaurants.head()"
   ]
  },
  {
   "cell_type": "code",
   "execution_count": 4,
   "id": "48609759",
   "metadata": {},
   "outputs": [
    {
     "data": {
      "text/plain": [
       "1267"
      ]
     },
     "execution_count": 4,
     "metadata": {},
     "output_type": "execute_result"
    }
   ],
   "source": [
    "#Question 3\n",
    "brooklyn_restaurants.shape[0]\n",
    "#There are 1267 restaurants in Brooklyn"
   ]
  },
  {
   "cell_type": "code",
   "execution_count": 5,
   "id": "a62aa9b9",
   "metadata": {},
   "outputs": [
    {
     "data": {
      "text/plain": [
       "21.126282557221785"
      ]
     },
     "execution_count": 5,
     "metadata": {},
     "output_type": "execute_result"
    }
   ],
   "source": [
    "#Question 4\n",
    "brooklyn_restaurants[\"SCORE\"].mean()"
   ]
  },
  {
   "cell_type": "code",
   "execution_count": 6,
   "id": "56606262",
   "metadata": {
    "scrolled": true
   },
   "outputs": [
    {
     "data": {
      "text/plain": [
       "DBA      cafe paulette\n",
       "SCORE              140\n",
       "dtype: object"
      ]
     },
     "execution_count": 6,
     "metadata": {},
     "output_type": "execute_result"
    }
   ],
   "source": [
    "#Question 5\n",
    "highestbrookrest = brooklyn_restaurants[['DBA','SCORE']]\n",
    "highestbrookrest.max()"
   ]
  },
  {
   "cell_type": "markdown",
   "id": "92dffe9e",
   "metadata": {},
   "source": [
    "Cafe Paulette has the highet score with a score of 140. "
   ]
  },
  {
   "cell_type": "code",
   "execution_count": 7,
   "id": "0f5f08d8",
   "metadata": {},
   "outputs": [
    {
     "data": {
      "text/html": [
       "<div>\n",
       "<style scoped>\n",
       "    .dataframe tbody tr th:only-of-type {\n",
       "        vertical-align: middle;\n",
       "    }\n",
       "\n",
       "    .dataframe tbody tr th {\n",
       "        vertical-align: top;\n",
       "    }\n",
       "\n",
       "    .dataframe thead th {\n",
       "        text-align: right;\n",
       "    }\n",
       "</style>\n",
       "<table border=\"1\" class=\"dataframe\">\n",
       "  <thead>\n",
       "    <tr style=\"text-align: right;\">\n",
       "      <th></th>\n",
       "      <th>CAMIS</th>\n",
       "      <th>DBA</th>\n",
       "      <th>BORO</th>\n",
       "      <th>BUILDING</th>\n",
       "      <th>STREET</th>\n",
       "      <th>ZIPCODE</th>\n",
       "      <th>PHONE</th>\n",
       "      <th>CUISINE.DESCRIPTION</th>\n",
       "      <th>INSPECTION.DATE</th>\n",
       "      <th>ACTION</th>\n",
       "      <th>...</th>\n",
       "      <th>RECORD.DATE</th>\n",
       "      <th>INSPECTION.TYPE</th>\n",
       "      <th>Latitude</th>\n",
       "      <th>Longitude</th>\n",
       "      <th>Community.Board</th>\n",
       "      <th>Council.District</th>\n",
       "      <th>Census.Tract</th>\n",
       "      <th>BIN</th>\n",
       "      <th>BBL</th>\n",
       "      <th>NTA</th>\n",
       "    </tr>\n",
       "  </thead>\n",
       "  <tbody>\n",
       "    <tr>\n",
       "      <th>1</th>\n",
       "      <td>50052848</td>\n",
       "      <td>FUSION JUICE BAR</td>\n",
       "      <td>Queens</td>\n",
       "      <td>3402</td>\n",
       "      <td>36TH AVE</td>\n",
       "      <td>11106</td>\n",
       "      <td>3477384024</td>\n",
       "      <td>Juice, Smoothies, Fruit Salads</td>\n",
       "      <td>10/18/2018</td>\n",
       "      <td>Violations were cited in the following area(s).</td>\n",
       "      <td>...</td>\n",
       "      <td>09/18/2019</td>\n",
       "      <td>Cycle Inspection / Initial Inspection</td>\n",
       "      <td>40.755386</td>\n",
       "      <td>-73.927226</td>\n",
       "      <td>401</td>\n",
       "      <td>26</td>\n",
       "      <td>5500</td>\n",
       "      <td>4009496</td>\n",
       "      <td>4.006340e+09</td>\n",
       "      <td>QN68</td>\n",
       "    </tr>\n",
       "    <tr>\n",
       "      <th>3</th>\n",
       "      <td>50090078</td>\n",
       "      <td>LA FONDA REST CORP</td>\n",
       "      <td>Queens</td>\n",
       "      <td>4911</td>\n",
       "      <td>69TH ST</td>\n",
       "      <td>11377</td>\n",
       "      <td>7182556425</td>\n",
       "      <td>Spanish</td>\n",
       "      <td>06/18/2019</td>\n",
       "      <td>Violations were cited in the following area(s).</td>\n",
       "      <td>...</td>\n",
       "      <td>09/18/2019</td>\n",
       "      <td>Pre-permit (Operational) / Initial Inspection</td>\n",
       "      <td>40.737474</td>\n",
       "      <td>-73.895927</td>\n",
       "      <td>402</td>\n",
       "      <td>30</td>\n",
       "      <td>48900</td>\n",
       "      <td>4056349</td>\n",
       "      <td>4.024350e+09</td>\n",
       "      <td>QN50</td>\n",
       "    </tr>\n",
       "    <tr>\n",
       "      <th>4</th>\n",
       "      <td>50002562</td>\n",
       "      <td>EXQUISITO RESTAURANT</td>\n",
       "      <td>Queens</td>\n",
       "      <td>2112</td>\n",
       "      <td>36TH AVENUE</td>\n",
       "      <td>11106</td>\n",
       "      <td>7187843505</td>\n",
       "      <td>Spanish</td>\n",
       "      <td>10/17/2017</td>\n",
       "      <td>Violations were cited in the following area(s).</td>\n",
       "      <td>...</td>\n",
       "      <td>09/18/2019</td>\n",
       "      <td>Cycle Inspection / Initial Inspection</td>\n",
       "      <td>40.759769</td>\n",
       "      <td>-73.936581</td>\n",
       "      <td>401</td>\n",
       "      <td>26</td>\n",
       "      <td>3300</td>\n",
       "      <td>4004269</td>\n",
       "      <td>4.003480e+09</td>\n",
       "      <td>QN68</td>\n",
       "    </tr>\n",
       "  </tbody>\n",
       "</table>\n",
       "<p>3 rows × 26 columns</p>\n",
       "</div>"
      ],
      "text/plain": [
       "      CAMIS                   DBA    BORO BUILDING       STREET  ZIPCODE  \\\n",
       "1  50052848      FUSION JUICE BAR  Queens     3402     36TH AVE    11106   \n",
       "3  50090078    LA FONDA REST CORP  Queens     4911      69TH ST    11377   \n",
       "4  50002562  EXQUISITO RESTAURANT  Queens     2112  36TH AVENUE    11106   \n",
       "\n",
       "        PHONE             CUISINE.DESCRIPTION INSPECTION.DATE  \\\n",
       "1  3477384024  Juice, Smoothies, Fruit Salads      10/18/2018   \n",
       "3  7182556425                         Spanish      06/18/2019   \n",
       "4  7187843505                         Spanish      10/17/2017   \n",
       "\n",
       "                                            ACTION  ... RECORD.DATE  \\\n",
       "1  Violations were cited in the following area(s).  ...  09/18/2019   \n",
       "3  Violations were cited in the following area(s).  ...  09/18/2019   \n",
       "4  Violations were cited in the following area(s).  ...  09/18/2019   \n",
       "\n",
       "                                 INSPECTION.TYPE   Latitude  Longitude  \\\n",
       "1          Cycle Inspection / Initial Inspection  40.755386 -73.927226   \n",
       "3  Pre-permit (Operational) / Initial Inspection  40.737474 -73.895927   \n",
       "4          Cycle Inspection / Initial Inspection  40.759769 -73.936581   \n",
       "\n",
       "  Community.Board Council.District Census.Tract      BIN           BBL   NTA  \n",
       "1             401               26         5500  4009496  4.006340e+09  QN68  \n",
       "3             402               30        48900  4056349  4.024350e+09  QN50  \n",
       "4             401               26         3300  4004269  4.003480e+09  QN68  \n",
       "\n",
       "[3 rows x 26 columns]"
      ]
     },
     "execution_count": 7,
     "metadata": {},
     "output_type": "execute_result"
    }
   ],
   "source": [
    "#Question 6\n",
    "queens_restaurants = (nyc_restaurants[nyc_restaurants['BORO']=='Queens'])\n",
    "queens_restaurants.head(3)"
   ]
  },
  {
   "cell_type": "code",
   "execution_count": 8,
   "id": "9940eeb1",
   "metadata": {},
   "outputs": [
    {
     "data": {
      "text/plain": [
       "1188"
      ]
     },
     "execution_count": 8,
     "metadata": {},
     "output_type": "execute_result"
    }
   ],
   "source": [
    "queens_restaurants.shape[0]"
   ]
  },
  {
   "cell_type": "code",
   "execution_count": 9,
   "id": "55b4390c",
   "metadata": {},
   "outputs": [
    {
     "data": {
      "text/plain": [
       "19.532828282828284"
      ]
     },
     "execution_count": 9,
     "metadata": {},
     "output_type": "execute_result"
    }
   ],
   "source": [
    "queens_restaurants[\"SCORE\"].mean()"
   ]
  },
  {
   "cell_type": "code",
   "execution_count": 10,
   "id": "d4e3e406",
   "metadata": {
    "scrolled": true
   },
   "outputs": [
    {
     "data": {
      "text/plain": [
       "DBA      ZYARA RESTAURANT\n",
       "SCORE                 112\n",
       "dtype: object"
      ]
     },
     "execution_count": 10,
     "metadata": {},
     "output_type": "execute_result"
    }
   ],
   "source": [
    "highestqueensrest = queens_restaurants[['DBA','SCORE']]\n",
    "highestqueensrest.max()"
   ]
  },
  {
   "cell_type": "markdown",
   "id": "7e23003a",
   "metadata": {},
   "source": [
    "There are fewer restaurants in Queens and the mean score in Queens is lower than the mean score in Brooklyn. Furthermore, the highest scoring restaurant in Queens has a lower score than the highest scoring restaurant in Brooklyn. "
   ]
  },
  {
   "cell_type": "markdown",
   "id": "9ab32543",
   "metadata": {},
   "source": [
    "# Part 2: Grouping, Summarizing, and Visualizing Data"
   ]
  },
  {
   "cell_type": "code",
   "execution_count": 11,
   "id": "8ec826e8",
   "metadata": {
    "scrolled": true
   },
   "outputs": [
    {
     "name": "stdout",
     "output_type": "stream",
     "text": [
      "1267\n",
      "1188\n",
      "428\n",
      "163\n",
      "1954\n"
     ]
    }
   ],
   "source": [
    "#Question 7\n",
    "brooklyn_restaurants = (nyc_restaurants[nyc_restaurants['BORO']=='Brooklyn'])\n",
    "print(brooklyn_restaurants.shape[0])\n",
    "queens_restaurants = (nyc_restaurants[nyc_restaurants['BORO']=='Queens'])\n",
    "print(queens_restaurants.shape[0])\n",
    "bronx_restaurants = (nyc_restaurants[nyc_restaurants['BORO']=='Bronx'])\n",
    "print(bronx_restaurants.shape[0])\n",
    "si_restaurants = (nyc_restaurants[nyc_restaurants['BORO']=='Staten Island'])\n",
    "print(si_restaurants.shape[0])\n",
    "man_restaurants = (nyc_restaurants[nyc_restaurants['BORO']=='Manhattan'])\n",
    "print(man_restaurants.shape[0])"
   ]
  },
  {
   "cell_type": "markdown",
   "id": "33561b75",
   "metadata": {},
   "source": [
    "Manhattan has the most number of restaurants in this dataset and Staten Island has the fewest number of restaurants in this dataset. "
   ]
  },
  {
   "cell_type": "code",
   "execution_count": 12,
   "id": "f8993a4e",
   "metadata": {},
   "outputs": [
    {
     "name": "stdout",
     "output_type": "stream",
     "text": [
      "21.126282557221785\n",
      "19.532828282828284\n",
      "20.572429906542055\n",
      "19.625766871165645\n",
      "20.195496417604915\n"
     ]
    }
   ],
   "source": [
    "#Question 8\n",
    "print(brooklyn_restaurants[\"SCORE\"].mean())\n",
    "print(queens_restaurants[\"SCORE\"].mean())\n",
    "print(bronx_restaurants[\"SCORE\"].mean())\n",
    "print(si_restaurants[\"SCORE\"].mean())\n",
    "print(man_restaurants[\"SCORE\"].mean())"
   ]
  },
  {
   "cell_type": "markdown",
   "id": "b34130b5",
   "metadata": {},
   "source": [
    "Brooklyn has the highest average score and Queens has the lowest average score."
   ]
  },
  {
   "cell_type": "code",
   "execution_count": 14,
   "id": "41ac75fa",
   "metadata": {},
   "outputs": [
    {
     "data": {
      "text/plain": [
       "<AxesSubplot: xlabel='BORO'>"
      ]
     },
     "execution_count": 14,
     "metadata": {},
     "output_type": "execute_result"
    },
    {
     "data": {
      "image/png": "[encoded data removed]",
      "text/plain": [
       "<Figure size 640x480 with 1 Axes>"
      ]
     },
     "metadata": {},
     "output_type": "display_data"
    }
   ],
   "source": [
    "#Question 9\n",
    "restbyboro = nyc_restaurants.groupby(['BORO'])['BORO'].size().reset_index(name='Number of Restaurants')\n",
    "restbyboro.plot.bar(\"BORO\",\"Number of Restaurants\")"
   ]
  },
  {
   "cell_type": "markdown",
   "id": "81ee0087",
   "metadata": {},
   "source": [
    "The bar graph depicts the number of restaurants in each borough with number of restaurants on the y-axis and the borough on the x-axis. Based on the bar graph it is clear that Manhattan has the greatest number of restaurants by a large margin whereas Staten Island has the fewest number of restaurants. Additionally, we can observe that Brooklyn and Queens are close to each other in the number of restaurants that they have. "
   ]
  },
  {
   "cell_type": "code",
   "execution_count": 15,
   "id": "dbf2daac",
   "metadata": {
    "scrolled": true
   },
   "outputs": [
    {
     "data": {
      "text/plain": [
       "<AxesSubplot: xlabel='BORO'>"
      ]
     },
     "execution_count": 15,
     "metadata": {},
     "output_type": "execute_result"
    },
    {
     "data": {
      "image/png": "[encoded data removed]",
      "text/plain": [
       "<Figure size 640x480 with 1 Axes>"
      ]
     },
     "metadata": {},
     "output_type": "display_data"
    }
   ],
   "source": [
    "#Question 10\n",
    "restbyboro['Probability'] = (restbyboro['Number of Restaurants'] / nyc_restaurants.shape[0])\n",
    "restbyboro.plot.bar(\"BORO\",\"Probability\")\n",
    "#describe"
   ]
  },
  {
   "cell_type": "markdown",
   "id": "30b263f4",
   "metadata": {},
   "source": [
    "The bar graph depicts the proportion of total restaurants in the sample that restaurants from each borough takes up with proportion on the y-axis and borough on the x-axis. Based on the bar graph it is clear that Manhattan has the highest proportion of restaurants by a large margin whereas Staten Island has the lowest proportion of restaurants. Additionally, we can observe that Brooklyn and Queens are close to each other in their proportions of restaurants."
   ]
  },
  {
   "cell_type": "code",
   "execution_count": 16,
   "id": "859d3837",
   "metadata": {
    "scrolled": true
   },
   "outputs": [
    {
     "name": "stderr",
     "output_type": "stream",
     "text": [
      "/tmp/ipykernel_53/2427944870.py:2: UserWarning: \n",
      "\n",
      "`distplot` is a deprecated function and will be removed in seaborn v0.14.0.\n",
      "\n",
      "Please adapt your code to use either `displot` (a figure-level function with\n",
      "similar flexibility) or `histplot` (an axes-level function for histograms).\n",
      "\n",
      "For a guide to updating your code to use the new functions, please see\n",
      "https://gist.github.com/mwaskom/de44147ed2974457ad6372750bbe5751\n",
      "\n",
      "  sns.distplot(nyc_restaurants['SCORE'], hist=True, kde=True, bins = 10)\n"
     ]
    },
    {
     "data": {
      "text/plain": [
       "<AxesSubplot: xlabel='SCORE', ylabel='Density'>"
      ]
     },
     "execution_count": 16,
     "metadata": {},
     "output_type": "execute_result"
    },
    {
     "data": {
      "image/png": "[encoded data removed]",
      "text/plain": [
       "<Figure size 640x480 with 1 Axes>"
      ]
     },
     "metadata": {},
     "output_type": "display_data"
    }
   ],
   "source": [
    "#Question 11\n",
    "sns.distplot(nyc_restaurants['SCORE'], hist=True, kde=True, bins = 10)"
   ]
  },
  {
   "cell_type": "markdown",
   "id": "30097c19",
   "metadata": {},
   "source": [
    "The histogram depicts the distribution of scores across the restaurants in the dataset. The x-axis is the score of the restaurants and the y-axis is the density. There are ten bins and the distribution appears to be skewed right. The density represents the frequency of a score in the dataset. "
   ]
  },
  {
   "cell_type": "markdown",
   "id": "482c4ed8",
   "metadata": {},
   "source": [
    "# Part 3: More practice with a different dataset"
   ]
  },
  {
   "cell_type": "code",
   "execution_count": 17,
   "id": "c3310de8",
   "metadata": {},
   "outputs": [
    {
     "name": "stdout",
     "output_type": "stream",
     "text": [
      "(5000, 16)\n"
     ]
    },
    {
     "data": {
      "text/html": [
       "<div>\n",
       "<style scoped>\n",
       "    .dataframe tbody tr th:only-of-type {\n",
       "        vertical-align: middle;\n",
       "    }\n",
       "\n",
       "    .dataframe tbody tr th {\n",
       "        vertical-align: top;\n",
       "    }\n",
       "\n",
       "    .dataframe thead th {\n",
       "        text-align: right;\n",
       "    }\n",
       "</style>\n",
       "<table border=\"1\" class=\"dataframe\">\n",
       "  <thead>\n",
       "    <tr style=\"text-align: right;\">\n",
       "      <th></th>\n",
       "      <th>Fiscal.Year</th>\n",
       "      <th>Payroll.Number</th>\n",
       "      <th>Agency.Name</th>\n",
       "      <th>Last.Name</th>\n",
       "      <th>First.Name</th>\n",
       "      <th>Agency.Start.Date</th>\n",
       "      <th>Work.Location.Borough</th>\n",
       "      <th>Title.Description</th>\n",
       "      <th>Leave.Status.as.of.June.30</th>\n",
       "      <th>Base.Salary</th>\n",
       "      <th>Pay.Basis</th>\n",
       "      <th>Regular.Hours</th>\n",
       "      <th>Regular.Gross.Paid</th>\n",
       "      <th>OT.Hours</th>\n",
       "      <th>Total.OT.Paid</th>\n",
       "      <th>Total.Other.Pay</th>\n",
       "    </tr>\n",
       "  </thead>\n",
       "  <tbody>\n",
       "    <tr>\n",
       "      <th>0</th>\n",
       "      <td>2019</td>\n",
       "      <td>300</td>\n",
       "      <td>BOARD OF ELECTION POLL WORKERS</td>\n",
       "      <td>WORKMAN</td>\n",
       "      <td>EULENE</td>\n",
       "      <td>07/25/2013</td>\n",
       "      <td>MANHATTAN</td>\n",
       "      <td>ELECTION WORKER</td>\n",
       "      <td>ACTIVE</td>\n",
       "      <td>1.00</td>\n",
       "      <td>per Hour</td>\n",
       "      <td>0.0</td>\n",
       "      <td>1450.00</td>\n",
       "      <td>0.0</td>\n",
       "      <td>0.0</td>\n",
       "      <td>0.0</td>\n",
       "    </tr>\n",
       "    <tr>\n",
       "      <th>1</th>\n",
       "      <td>2019</td>\n",
       "      <td>466</td>\n",
       "      <td>COMMUNITY COLLEGE (MANHATTAN)</td>\n",
       "      <td>GEORGE</td>\n",
       "      <td>MICHAEL</td>\n",
       "      <td>02/01/2004</td>\n",
       "      <td>MANHATTAN</td>\n",
       "      <td>NON-TEACHING ADJUNCT IV</td>\n",
       "      <td>ACTIVE</td>\n",
       "      <td>58.26</td>\n",
       "      <td>per Hour</td>\n",
       "      <td>6.0</td>\n",
       "      <td>349.56</td>\n",
       "      <td>0.0</td>\n",
       "      <td>0.0</td>\n",
       "      <td>0.0</td>\n",
       "    </tr>\n",
       "  </tbody>\n",
       "</table>\n",
       "</div>"
      ],
      "text/plain": [
       "   Fiscal.Year  Payroll.Number                     Agency.Name Last.Name  \\\n",
       "0         2019             300  BOARD OF ELECTION POLL WORKERS   WORKMAN   \n",
       "1         2019             466   COMMUNITY COLLEGE (MANHATTAN)    GEORGE   \n",
       "\n",
       "  First.Name Agency.Start.Date Work.Location.Borough        Title.Description  \\\n",
       "0     EULENE        07/25/2013             MANHATTAN          ELECTION WORKER   \n",
       "1    MICHAEL        02/01/2004             MANHATTAN  NON-TEACHING ADJUNCT IV   \n",
       "\n",
       "  Leave.Status.as.of.June.30  Base.Salary Pay.Basis  Regular.Hours  \\\n",
       "0                     ACTIVE         1.00  per Hour            0.0   \n",
       "1                     ACTIVE        58.26  per Hour            6.0   \n",
       "\n",
       "   Regular.Gross.Paid  OT.Hours  Total.OT.Paid  Total.Other.Pay  \n",
       "0             1450.00       0.0            0.0              0.0  \n",
       "1              349.56       0.0            0.0              0.0  "
      ]
     },
     "execution_count": 17,
     "metadata": {},
     "output_type": "execute_result"
    }
   ],
   "source": [
    "#Question 12\n",
    "payroll= pd.read_csv('shared/datasets/NYC_Payroll_small.csv')\n",
    "\n",
    "print( payroll.shape )\n",
    "payroll.head(2)"
   ]
  },
  {
   "cell_type": "markdown",
   "id": "a23dd9cb",
   "metadata": {},
   "source": [
    "There are 5000 rows and 16 columns. Each row corresponds to one worker and the data that was collected about them for each of the different variables. Three variabels are Agency.Name, Title.Description, and Leave.Status.as.of.June.30. These are all categorical variables. "
   ]
  },
  {
   "cell_type": "code",
   "execution_count": 18,
   "id": "c915bcaf",
   "metadata": {
    "scrolled": true
   },
   "outputs": [
    {
     "name": "stdout",
     "output_type": "stream",
     "text": [
      "Title.Description\n",
      "ACCOUNTANT                                      1\n",
      "ADJUNCT ASSISTANT PROFESSOR                     1\n",
      "ADJUNCT ASSOCIATE PROFESSOR                     1\n",
      "ADJUNCT COLLEGE LAB TECH                        1\n",
      "ADJUNCT LECTURER                                1\n",
      "                                               ..\n",
      "VOTING MACHINE TECHNICIAN                       1\n",
      "WARDEN                                          1\n",
      "WARDEN-ASSISTANT DEPUTY WARDEN TED < 11/1/92    1\n",
      "WARDEN-DEPUTY WARDEN TED < 11/1/92              1\n",
      "YOUTH DEVELOPMENT SPECIALIST                    1\n",
      "Name: Title.Description, Length: 348, dtype: int64\n"
     ]
    }
   ],
   "source": [
    "#Question 13\n",
    "print(payroll.groupby('Title.Description')['Title.Description'].agg('nunique'))"
   ]
  },
  {
   "cell_type": "markdown",
   "id": "8d84edca",
   "metadata": {},
   "source": [
    "There are 348 different titles among employees in this dataset. "
   ]
  },
  {
   "cell_type": "code",
   "execution_count": 19,
   "id": "a954e79e",
   "metadata": {
    "scrolled": false
   },
   "outputs": [
    {
     "name": "stdout",
     "output_type": "stream",
     "text": [
      "Title.Description                             Title.Description                           \n",
      "ACCOUNTANT                                    ACCOUNTANT                                        5\n",
      "ADJUNCT ASSISTANT PROFESSOR                   ADJUNCT ASSISTANT PROFESSOR                      23\n",
      "ADJUNCT ASSOCIATE PROFESSOR                   ADJUNCT ASSOCIATE PROFESSOR                       4\n",
      "ADJUNCT COLLEGE LAB TECH                      ADJUNCT COLLEGE LAB TECH                         10\n",
      "ADJUNCT LECTURER                              ADJUNCT LECTURER                                109\n",
      "                                                                                             ... \n",
      "VOTING MACHINE TECHNICIAN                     VOTING MACHINE TECHNICIAN                         4\n",
      "WARDEN                                        WARDEN                                            1\n",
      "WARDEN-ASSISTANT DEPUTY WARDEN TED < 11/1/92  WARDEN-ASSISTANT DEPUTY WARDEN TED < 11/1/92      4\n",
      "WARDEN-DEPUTY WARDEN TED < 11/1/92            WARDEN-DEPUTY WARDEN TED < 11/1/92                1\n",
      "YOUTH DEVELOPMENT SPECIALIST                  YOUTH DEVELOPMENT SPECIALIST                     17\n",
      "Name: Title.Description, Length: 348, dtype: int64\n"
     ]
    }
   ],
   "source": [
    "print(payroll.groupby('Title.Description')['Title.Description'].value_counts())"
   ]
  },
  {
   "cell_type": "markdown",
   "id": "5a4367dc",
   "metadata": {},
   "source": [
    "The above table shows the count of how many employees there are for each title. "
   ]
  },
  {
   "cell_type": "code",
   "execution_count": 103,
   "id": "de2c5c43",
   "metadata": {
    "scrolled": true
   },
   "outputs": [
    {
     "name": "stdout",
     "output_type": "stream",
     "text": [
      "Title.Description\n",
      "ACCOUNTANT                                       57421.972000\n",
      "ADJUNCT ASSISTANT PROFESSOR                      17051.261304\n",
      "ADJUNCT ASSOCIATE PROFESSOR                      20517.300000\n",
      "ADJUNCT COLLEGE LAB TECH                          6613.216000\n",
      "ADJUNCT LECTURER                                 13448.450092\n",
      "                                                    ...      \n",
      "VOTING MACHINE TECHNICIAN                        31528.480000\n",
      "WARDEN                                          190982.730000\n",
      "WARDEN-ASSISTANT DEPUTY WARDEN TED < 11/1/92    113187.635000\n",
      "WARDEN-DEPUTY WARDEN TED < 11/1/92              121657.380000\n",
      "YOUTH DEVELOPMENT SPECIALIST                     28370.638235\n",
      "Name: Regular.Gross.Paid, Length: 348, dtype: float64\n",
      "Regular.Gross.Paid    190982.73\n",
      "Name: WARDEN, dtype: float64\n"
     ]
    }
   ],
   "source": [
    "print(payroll.groupby('Title.Description')['Regular.Gross.Paid'].agg('mean'))"
   ]
  },
  {
   "cell_type": "markdown",
   "id": "e9d9caf3",
   "metadata": {},
   "source": [
    "The above table shows the average value of the Regular.Gross.Paid column for each title. "
   ]
  },
  {
   "cell_type": "code",
   "execution_count": 106,
   "id": "6b219d4a",
   "metadata": {
    "scrolled": true
   },
   "outputs": [
    {
     "name": "stdout",
     "output_type": "stream",
     "text": [
      "count    1065\n",
      "Name: ELECTION WORKER, dtype: int64\n"
     ]
    }
   ],
   "source": [
    "countdata = payroll.groupby('Title.Description')['Title.Description'].agg(['count'])\n",
    "count = pd.DataFrame(countdata)\n",
    "print(count.loc[count['count'].idxmax()])"
   ]
  },
  {
   "cell_type": "markdown",
   "id": "d7b6fa56",
   "metadata": {},
   "source": [
    "The Election Worker title has the most employees with 1065 employees. "
   ]
  },
  {
   "cell_type": "code",
   "execution_count": 107,
   "id": "d5edb6d6",
   "metadata": {
    "scrolled": true
   },
   "outputs": [
    {
     "name": "stdout",
     "output_type": "stream",
     "text": [
      "mean    190982.73\n",
      "Name: WARDEN, dtype: float64\n"
     ]
    }
   ],
   "source": [
    "paydata = payroll.groupby('Title.Description')['Regular.Gross.Paid'].agg(['mean'])\n",
    "pay = pd.DataFrame(paydata)\n",
    "print(pay.loc[pay['mean'].idxmax()])"
   ]
  },
  {
   "cell_type": "markdown",
   "id": "667a1932",
   "metadata": {},
   "source": [
    "The Warden title has the highest pay with an average Regular.Gross.Paid of 190982.73"
   ]
  },
  {
   "cell_type": "code",
   "execution_count": 109,
   "id": "93fe26fb",
   "metadata": {
    "scrolled": true
   },
   "outputs": [
    {
     "name": "stdout",
     "output_type": "stream",
     "text": [
      "                                         mean\n",
      "Agency.Name                                  \n",
      "ADMIN FOR CHILDREN'S SVCS        54271.496296\n",
      "ADMIN TRIALS AND HEARINGS        33893.602963\n",
      "BOARD OF CORRECTION             177241.790000\n",
      "BOARD OF ELECTION                29545.392059\n",
      "BOARD OF ELECTION POLL WORKERS     843.266629\n",
      "BOROUGH PRESIDENT-BROOKLYN       18852.163333\n",
      "BOROUGH PRESIDENT-QUEENS         64595.900000\n",
      "BOROUGH PRESIDENT-STATEN IS      76209.135000\n",
      "BRONX COMMUNITY BOARD #6        102886.480000\n",
      "BRONX COMMUNITY BOARD #8          5195.440000\n",
      "BRONX DISTRICT ATTORNEY          54798.213043\n",
      "BROOKLYN COMMUNITY BOARD #1      61785.490000\n",
      "BROOKLYN COMMUNITY BOARD #17     31464.620000\n",
      "BROOKLYN COMMUNITY BOARD #2      43048.780000\n",
      "BUSINESS INTEGRITY COMMISSION    47109.990000\n",
      "CAMPAIGN FINANCE BOARD           50237.837500\n",
      "CITY CLERK                       37866.296667\n",
      "CITY COUNCIL                     63871.742000\n",
      "CIVIL SERVICE COMMISSION         97531.780000\n",
      "CIVILIAN COMPLAINT REVIEW BD     58456.297500\n",
      "COMMUNITY COLLEGE (BRONX)        28603.209565\n",
      "COMMUNITY COLLEGE (HOSTOS)       32027.225532\n",
      "COMMUNITY COLLEGE (KINGSBORO)    24594.430229\n",
      "COMMUNITY COLLEGE (LAGUARDIA)    25726.533937\n",
      "COMMUNITY COLLEGE (MANHATTAN)    26920.504757\n",
      "COMMUNITY COLLEGE (QUEENSBORO)   27370.910204\n",
      "CONSUMER AFFAIRS                 62893.900000\n",
      "CULTURAL AFFAIRS                 45833.614000\n",
      "CUNY CENTRAL OFFICE              41538.686667\n",
      "DEPARTMENT FOR THE AGING         25530.441892\n",
      "DEPARTMENT OF BUILDINGS          68076.343729\n",
      "DEPARTMENT OF BUSINESS SERV.     52673.091250\n",
      "DEPARTMENT OF CITY PLANNING      65650.659000\n",
      "DEPARTMENT OF CORRECTION         64156.255025\n",
      "DEPARTMENT OF EDUCATION ADMIN    54818.006417\n",
      "DEPARTMENT OF FINANCE            62540.684314\n",
      "DEPARTMENT OF INVESTIGATION      66791.657500\n",
      "DEPARTMENT OF PROBATION          42978.032105\n",
      "DEPARTMENT OF SANITATION         60956.404684\n",
      "DEPARTMENT OF TRANSPORTATION     66631.219189\n",
      "DEPT OF CITYWIDE ADMIN SVCS      53357.618247\n",
      "DEPT OF ED HRLY SUPPORT STAFF    19385.754836\n",
      "DEPT OF ED PARA PROFESSIONALS     6200.168806\n",
      "DEPT. OF DESIGN & CONSTRUCTION   67374.489804\n"
     ]
    }
   ],
   "source": [
    "#Question 14\n",
    "print(payroll.groupby('Agency.Name')['Regular.Gross.Paid'].agg(['mean']))"
   ]
  },
  {
   "cell_type": "markdown",
   "id": "fec4d4be",
   "metadata": {},
   "source": [
    "I grouped the dataframe by Agency Name and found the mean Regular.Gross.Paid for each agency. From this data, we can see that the Board of Correction Agency has the highest pay. "
   ]
  },
  {
   "cell_type": "code",
   "execution_count": 23,
   "id": "dfb4814d",
   "metadata": {},
   "outputs": [
    {
     "data": {
      "text/plain": [
       "<AxesSubplot: xlabel='Work.Location.Borough'>"
      ]
     },
     "execution_count": 23,
     "metadata": {},
     "output_type": "execute_result"
    },
    {
     "data": {
      "image/png": "[encoded data removed]",
      "text/plain": [
       "<Figure size 640x480 with 1 Axes>"
      ]
     },
     "metadata": {},
     "output_type": "display_data"
    }
   ],
   "source": [
    "#Question 15\n",
    "empbyboro = payroll.groupby('Work.Location.Borough')['Work.Location.Borough'].size().reset_index(name='Number of Employees')\n",
    "empbyboro.plot.bar(\"Work.Location.Borough\",\"Number of Employees\")"
   ]
  },
  {
   "cell_type": "markdown",
   "id": "b85b6ab6",
   "metadata": {},
   "source": [
    "From this visualization, I can glean that the majority of workers in this dataset work in Manhattan as the bar representing the number of employees in Manhattan is significantly larger than the bars of the other boroughs. "
   ]
  },
  {
   "cell_type": "code",
   "execution_count": 111,
   "id": "d7774314",
   "metadata": {
    "scrolled": true
   },
   "outputs": [
    {
     "data": {
      "text/plain": [
       "array([[<AxesSubplot: title={'center': 'Regular.Gross.Paid'}>]],\n",
       "      dtype=object)"
      ]
     },
     "execution_count": 111,
     "metadata": {},
     "output_type": "execute_result"
    },
    {
     "data": {
      "image/png": "[encoded data removed]",
      "text/plain": [
       "<Figure size 640x480 with 1 Axes>"
      ]
     },
     "metadata": {},
     "output_type": "display_data"
    }
   ],
   "source": [
    "#Question 16\n",
    "payroll.hist(column='Regular.Gross.Paid', bins=20)"
   ]
  },
  {
   "cell_type": "markdown",
   "id": "a3ed9500",
   "metadata": {},
   "source": [
    "I chose 20 bins becuase after experimenting with different numbers of bins I felt that 20 bins created a visual that adequately showed how the pay was distributed without being overly simplistic or overwhelming. From this distribution, I can observe that the distribution is skewed right, meaning that the Regular.Gross.Paid for workers in this dataset tends to be closer to the 0-50000 range than the >50000 range. "
   ]
  },
  {
   "cell_type": "code",
   "execution_count": 136,
   "id": "9fa1a3c3",
   "metadata": {
    "scrolled": false
   },
   "outputs": [
    {
     "name": "stderr",
     "output_type": "stream",
     "text": [
      "/tmp/ipykernel_53/3341064447.py:2: UserWarning: \n",
      "\n",
      "`distplot` is a deprecated function and will be removed in seaborn v0.14.0.\n",
      "\n",
      "Please adapt your code to use either `displot` (a figure-level function with\n",
      "similar flexibility) or `histplot` (an axes-level function for histograms).\n",
      "\n",
      "For a guide to updating your code to use the new functions, please see\n",
      "https://gist.github.com/mwaskom/de44147ed2974457ad6372750bbe5751\n",
      "\n",
      "  sns.distplot(payroll['Regular.Gross.Paid'], hist=True, kde=True, bins = [0,50,80,100, 200, 300, 350, 500, 700, 1000, 10000,50000,200000])\n"
     ]
    },
    {
     "data": {
      "text/plain": [
       "<AxesSubplot: xlabel='Regular.Gross.Paid', ylabel='Density'>"
      ]
     },
     "execution_count": 136,
     "metadata": {},
     "output_type": "execute_result"
    },
    {
     "data": {
      "image/png": "[encoded data removed]",
      "text/plain": [
       "<Figure size 640x480 with 1 Axes>"
      ]
     },
     "metadata": {},
     "output_type": "display_data"
    }
   ],
   "source": [
    "#Question 17\n",
    "sns.distplot(payroll['Regular.Gross.Paid'], hist=True, kde=True, bins = [0,50,80,100, 200, 300, 350, 500, 700, 1000, 10000,50000,200000])"
   ]
  },
  {
   "cell_type": "markdown",
   "id": "f0538a39",
   "metadata": {},
   "source": [
    "I used 12 bins and the endpoints of the bins are 0,50,80,100, 200, 300, 350, 500, 700, 1000, 10000,50000,200000. I chose these bins because based on what I had observed from the previous histogram, there is a clear rightward skew. Thus, I wanted to there to be smaller increments between bins on the lower end of Regular.Gross.Paid to help distribute the data more evenly. From this visualization, I glean that there is a clear rightward skew in the data, meaning that more workers are have low Regular.Gross.Paid values. Despite defining the bins to attempt to account for this skew, I still notice that the density of workers whose Regular.Gross.Paid falls into the bins of smaller value is significantly greater. "
   ]
  },
  {
   "cell_type": "markdown",
   "id": "4ac14ce3",
   "metadata": {},
   "source": [
    "# Section 4: Models (Part 1)"
   ]
  },
  {
   "cell_type": "code",
   "execution_count": 26,
   "id": "9beced06",
   "metadata": {
    "scrolled": false
   },
   "outputs": [
    {
     "name": "stdout",
     "output_type": "stream",
     "text": [
      "(272, 3)\n"
     ]
    },
    {
     "data": {
      "text/html": [
       "<div>\n",
       "<style scoped>\n",
       "    .dataframe tbody tr th:only-of-type {\n",
       "        vertical-align: middle;\n",
       "    }\n",
       "\n",
       "    .dataframe tbody tr th {\n",
       "        vertical-align: top;\n",
       "    }\n",
       "\n",
       "    .dataframe thead th {\n",
       "        text-align: right;\n",
       "    }\n",
       "</style>\n",
       "<table border=\"1\" class=\"dataframe\">\n",
       "  <thead>\n",
       "    <tr style=\"text-align: right;\">\n",
       "      <th></th>\n",
       "      <th>duration</th>\n",
       "      <th>waiting</th>\n",
       "      <th>kind</th>\n",
       "    </tr>\n",
       "  </thead>\n",
       "  <tbody>\n",
       "    <tr>\n",
       "      <th>0</th>\n",
       "      <td>3.6</td>\n",
       "      <td>79</td>\n",
       "      <td>long</td>\n",
       "    </tr>\n",
       "    <tr>\n",
       "      <th>1</th>\n",
       "      <td>1.8</td>\n",
       "      <td>54</td>\n",
       "      <td>short</td>\n",
       "    </tr>\n",
       "  </tbody>\n",
       "</table>\n",
       "</div>"
      ],
      "text/plain": [
       "   duration  waiting   kind\n",
       "0       3.6       79   long\n",
       "1       1.8       54  short"
      ]
     },
     "execution_count": 26,
     "metadata": {},
     "output_type": "execute_result"
    }
   ],
   "source": [
    "#Question 18\n",
    "geyser = sns.load_dataset('geyser')\n",
    "\n",
    "print( geyser.shape )\n",
    "geyser.head(2)"
   ]
  },
  {
   "cell_type": "markdown",
   "id": "14c7fa11",
   "metadata": {},
   "source": [
    "There are 272 observations and 3 variables. The variables of duration and waiting are integers while the variable of kind is categorical. Each observation corresponds to an eruption of the Old Faithful Geyser in Yellowstone National Park. "
   ]
  },
  {
   "cell_type": "code",
   "execution_count": 29,
   "id": "398fc58d",
   "metadata": {
    "scrolled": true
   },
   "outputs": [
    {
     "data": {
      "text/plain": [
       "<matplotlib.collections.PathCollection at 0x7fa08f1ee490>"
      ]
     },
     "execution_count": 29,
     "metadata": {},
     "output_type": "execute_result"
    },
    {
     "data": {
      "image/png": "[encoded data removed]",
      "text/plain": [
       "<Figure size 640x480 with 1 Axes>"
      ]
     },
     "metadata": {},
     "output_type": "display_data"
    }
   ],
   "source": [
    "#Question 19 \n",
    "plt.scatter(geyser['duration'], geyser['waiting'])"
   ]
  },
  {
   "cell_type": "code",
   "execution_count": 31,
   "id": "33a05eb9",
   "metadata": {},
   "outputs": [
    {
     "data": {
      "text/plain": [
       "0.9008111683218127"
      ]
     },
     "execution_count": 31,
     "metadata": {},
     "output_type": "execute_result"
    }
   ],
   "source": [
    "x=geyser['duration']\n",
    "x.corr(geyser['waiting'])"
   ]
  },
  {
   "cell_type": "markdown",
   "id": "2b9b5f3f",
   "metadata": {},
   "source": [
    "Based on the scatterplot there seems to be a positive linear relationship between the variables of duratiion and waiting. The value of the correlation coefficient is 0.9008111683218127 and it confirms that there is a positive linear relationship between the variables of duration and waiting because 0.9008111683218127 is a positive number that is close to one."
   ]
  },
  {
   "cell_type": "markdown",
   "id": "32a794af",
   "metadata": {},
   "source": [
    "#Question 20\n",
    "\n",
    "The equation that I found was y=13.44x+23.464\n",
    "\n",
    "I calculated this equation by estimating the points of (1.9,49) and (4.8,88), and using these points to determine the value of slope. Then,I plugged the point of (1.9,49) into the equation of y=13.44x and found the b-value by subtracting the predicted value from the actual value. "
   ]
  },
  {
   "cell_type": "code",
   "execution_count": 32,
   "id": "72d40c77",
   "metadata": {},
   "outputs": [
    {
     "data": {
      "text/html": [
       "<div>\n",
       "<style scoped>\n",
       "    .dataframe tbody tr th:only-of-type {\n",
       "        vertical-align: middle;\n",
       "    }\n",
       "\n",
       "    .dataframe tbody tr th {\n",
       "        vertical-align: top;\n",
       "    }\n",
       "\n",
       "    .dataframe thead th {\n",
       "        text-align: right;\n",
       "    }\n",
       "</style>\n",
       "<table border=\"1\" class=\"dataframe\">\n",
       "  <thead>\n",
       "    <tr style=\"text-align: right;\">\n",
       "      <th></th>\n",
       "      <th>duration</th>\n",
       "      <th>waiting</th>\n",
       "      <th>kind</th>\n",
       "      <th>waiting_predicted</th>\n",
       "    </tr>\n",
       "  </thead>\n",
       "  <tbody>\n",
       "    <tr>\n",
       "      <th>0</th>\n",
       "      <td>3.6</td>\n",
       "      <td>79</td>\n",
       "      <td>long</td>\n",
       "      <td>71.848</td>\n",
       "    </tr>\n",
       "    <tr>\n",
       "      <th>1</th>\n",
       "      <td>1.8</td>\n",
       "      <td>54</td>\n",
       "      <td>short</td>\n",
       "      <td>47.656</td>\n",
       "    </tr>\n",
       "  </tbody>\n",
       "</table>\n",
       "</div>"
      ],
      "text/plain": [
       "   duration  waiting   kind  waiting_predicted\n",
       "0       3.6       79   long             71.848\n",
       "1       1.8       54  short             47.656"
      ]
     },
     "execution_count": 32,
     "metadata": {},
     "output_type": "execute_result"
    }
   ],
   "source": [
    "#Question 21\n",
    "geyser2 = sns.load_dataset('geyser')\n",
    "geyser2['waiting_predicted'] = 13.44*geyser2['duration']+23.464"
   ]
  },
  {
   "cell_type": "code",
   "execution_count": 34,
   "id": "766a4122",
   "metadata": {
    "scrolled": false
   },
   "outputs": [
    {
     "data": {
      "text/plain": [
       "[<matplotlib.lines.Line2D at 0x7fa08f1bba00>]"
      ]
     },
     "execution_count": 34,
     "metadata": {},
     "output_type": "execute_result"
    },
    {
     "data": {
      "image/png": "[encoded data removed]",
      "text/plain": [
       "<Figure size 500x500 with 1 Axes>"
      ]
     },
     "metadata": {},
     "output_type": "display_data"
    }
   ],
   "source": [
    "#Question 22\n",
    "import matplotlib.pyplot as plt\n",
    "sns.relplot( data = geyser2 , x = 'duration' , y = 'waiting')\n",
    "plt.plot( geyser2['duration'], geyser2['waiting_predicted'], 'red')"
   ]
  },
  {
   "cell_type": "markdown",
   "id": "fc713678",
   "metadata": {},
   "source": [
    "This line does agree with the line that I sketched in Question 20 because by looking at it, it appears to have a similar slope and y-intercept value. "
   ]
  },
  {
   "cell_type": "code",
   "execution_count": 36,
   "id": "bcd40704",
   "metadata": {
    "scrolled": true
   },
   "outputs": [
    {
     "name": "stdout",
     "output_type": "stream",
     "text": [
      "44.5635827764706\n"
     ]
    }
   ],
   "source": [
    "#Question 23\n",
    "geyser2['error'] = geyser2['waiting'] - geyser2['waiting_predicted']\n",
    "geyser2['squared_error'] = geyser2['error']**2\n",
    "print(geyser2[\"squared_error\"].mean())"
   ]
  },
  {
   "cell_type": "markdown",
   "id": "3a438eae",
   "metadata": {},
   "source": [
    "The mean squared error of this line is 44.5635827764706."
   ]
  },
  {
   "cell_type": "code",
   "execution_count": 39,
   "id": "f2df7dd1",
   "metadata": {},
   "outputs": [],
   "source": [
    "#Question 24\n",
    "geyser3 = sns.load_dataset('geyser')\n",
    "X=geyser3['duration']\n",
    "Y=geyser3['waiting']\n",
    "X_train, X_test, Y_train, Y_test = train_test_split(X, Y, test_size = .5, random_state = 1)"
   ]
  },
  {
   "cell_type": "code",
   "execution_count": 41,
   "id": "0903b085",
   "metadata": {},
   "outputs": [
    {
     "data": {
      "text/plain": [
       "<AxesSubplot: xlabel='duration', ylabel='waiting'>"
      ]
     },
     "execution_count": 41,
     "metadata": {},
     "output_type": "execute_result"
    },
    {
     "data": {
      "image/png": "[encoded data removed]",
      "text/plain": [
       "<Figure size 640x480 with 1 Axes>"
      ]
     },
     "metadata": {},
     "output_type": "display_data"
    }
   ],
   "source": [
    "#Question 25\n",
    "sns.regplot( data = geyser3, x=X_train, y=Y_train, order = 1 , ci = None, line_kws={'color':'red'} )"
   ]
  },
  {
   "cell_type": "code",
   "execution_count": 42,
   "id": "470d4b2b",
   "metadata": {
    "scrolled": true
   },
   "outputs": [
    {
     "name": "stdout",
     "output_type": "stream",
     "text": [
      "Best fit line is 10.42x + 34.889\n"
     ]
    }
   ],
   "source": [
    "#Question 26\n",
    "lin_model = LinearRegression().fit(X_train.to_numpy().reshape(-1,1), Y_train )\n",
    "m = lin_model.coef_[0]\n",
    "b = lin_model.intercept_\n",
    "print(f'Best fit line is {round(m,3)}x + {round(b,3)}')"
   ]
  },
  {
   "cell_type": "markdown",
   "id": "b189cfd3",
   "metadata": {},
   "source": [
    "Compared to the best fit line that I created, the slope of the calculated best fit line has a smaller slope and a greater y-intercept value. "
   ]
  },
  {
   "cell_type": "code",
   "execution_count": 46,
   "id": "0cfe7870",
   "metadata": {},
   "outputs": [
    {
     "name": "stdout",
     "output_type": "stream",
     "text": [
      "MSE = 37.44092688057394\n"
     ]
    }
   ],
   "source": [
    "#Question 27\n",
    "Y_predictedtrain=lin_model.predict(X_train.to_numpy().reshape(-1,1))\n",
    "df = pd.DataFrame(X_train)\n",
    "df['Known'] = Y_train\n",
    "df['Predicted'] = Y_predictedtrain\n",
    "print('MSE = ' + str(mse(df['Known'],df['Predicted'])))"
   ]
  },
  {
   "cell_type": "markdown",
   "id": "d476f496",
   "metadata": {},
   "source": [
    "This MSE is smaller than the MSE I found in Question 23, which indicates that the calculated line of best fit is a better fit to the data than the line of best fit I created by hand. "
   ]
  },
  {
   "cell_type": "code",
   "execution_count": 47,
   "id": "3d2e41c4",
   "metadata": {},
   "outputs": [
    {
     "name": "stdout",
     "output_type": "stream",
     "text": [
      "MSE = 32.4699582881455\n"
     ]
    }
   ],
   "source": [
    "#Question 28\n",
    "Y_predictedtest=lin_model.predict(X_test.to_numpy().reshape(-1,1))\n",
    "df2 = pd.DataFrame(X_test)\n",
    "df2['Known'] = Y_test\n",
    "df2['Predicted'] = Y_predictedtest\n",
    "print('MSE = ' + str(mse(df2['Known'],df2['Predicted'])))"
   ]
  },
  {
   "cell_type": "markdown",
   "id": "bd0c24f6",
   "metadata": {},
   "source": [
    "This MSE is smaller than the MSE I found in Question 27, which indicates that the calculated line of best fit with the training data is a better fit to the training data than the testing data. "
   ]
  }
 ],
 "metadata": {
  "kernelspec": {
   "display_name": "Python [conda env:GS-3.8]",
   "language": "python",
   "name": "conda-env-GS-3.8-py"
  },
  "language_info": {
   "codemirror_mode": {
    "name": "ipython",
    "version": 3
   },
   "file_extension": ".py",
   "mimetype": "text/x-python",
   "name": "python",
   "nbconvert_exporter": "python",
   "pygments_lexer": "ipython3",
   "version": "3.8.15"
  }
 },
 "nbformat": 4,
 "nbformat_minor": 5
}
