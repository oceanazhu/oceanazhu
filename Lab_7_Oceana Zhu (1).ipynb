{
 "cells": [
  {
   "cell_type": "markdown",
   "metadata": {
    "id": "z4GQFbnd4mE-"
   },
   "source": [
    "# Background & Motivation"
   ]
  },
  {
   "cell_type": "markdown",
   "metadata": {
    "id": "9lfUdM8R4nzy"
   },
   "source": [
    "For this lab, we will explore logistic regression in a multi-class classification problem. Given black and white handwritten digits, let us try to achieve the highest classification as possible. \n",
    "\n",
    "We will also visualize accuracy metrics and experiment with regularization to see its effect on testing accuracy."
   ]
  },
  {
   "cell_type": "markdown",
   "metadata": {
    "id": "7dV59mVy4hH1"
   },
   "source": [
    "# Import Libraries"
   ]
  },
  {
   "cell_type": "code",
   "execution_count": 1,
   "metadata": {
    "id": "b81BlNw03n1R"
   },
   "outputs": [],
   "source": [
    "import warnings\n",
    "warnings.filterwarnings('ignore')"
   ]
  },
  {
   "cell_type": "code",
   "execution_count": 3,
   "metadata": {
    "id": "IVtthyYn3sfY"
   },
   "outputs": [],
   "source": [
    "import pandas as pd\n",
    "import numpy as np\n",
    "import seaborn as sns\n",
    "import matplotlib.pyplot as plt"
   ]
  },
  {
   "cell_type": "code",
   "execution_count": 4,
   "metadata": {
    "id": "ZcsoxDop3vXF"
   },
   "outputs": [],
   "source": [
    "from sklearn.model_selection import train_test_split\n",
    "from sklearn.metrics import confusion_matrix\n",
    "from sklearn.linear_model import LogisticRegression as LR"
   ]
  },
  {
   "cell_type": "markdown",
   "metadata": {
    "id": "ZpnfguLF4r3B"
   },
   "source": [
    "# Obtain & Visualize Data"
   ]
  },
  {
   "cell_type": "markdown",
   "metadata": {
    "id": "6fCCxk5vVwMX"
   },
   "source": [
    "Adapted from the full MNIST dataset, scikit-learn has a built-in smaller digits dataset that can be imported."
   ]
  },
  {
   "cell_type": "code",
   "execution_count": 5,
   "metadata": {
    "id": "FFvOqNO9UN4z"
   },
   "outputs": [],
   "source": [
    "from sklearn.datasets import load_digits"
   ]
  },
  {
   "cell_type": "code",
   "execution_count": 6,
   "metadata": {
    "id": "4nFZE6zoUSVi"
   },
   "outputs": [],
   "source": [
    "digits = load_digits()"
   ]
  },
  {
   "cell_type": "code",
   "execution_count": 7,
   "metadata": {
    "colab": {
     "base_uri": "https://localhost:8080/"
    },
    "id": "M7yv9SibUbzB",
    "outputId": "b72b143a-21e4-492d-e5f4-0c9210b6cdeb"
   },
   "outputs": [
    {
     "data": {
      "text/plain": [
       "array([[ 0.,  0.,  5., ...,  0.,  0.,  0.],\n",
       "       [ 0.,  0.,  0., ..., 10.,  0.,  0.],\n",
       "       [ 0.,  0.,  0., ..., 16.,  9.,  0.],\n",
       "       ...,\n",
       "       [ 0.,  0.,  1., ...,  6.,  0.,  0.],\n",
       "       [ 0.,  0.,  2., ..., 12.,  0.,  0.],\n",
       "       [ 0.,  0., 10., ..., 12.,  1.,  0.]])"
      ]
     },
     "execution_count": 7,
     "metadata": {},
     "output_type": "execute_result"
    }
   ],
   "source": [
    "# RUN THIS CELL, OBSERVE\n",
    "# This is our training data\n",
    "digits.data"
   ]
  },
  {
   "cell_type": "code",
   "execution_count": 8,
   "metadata": {
    "colab": {
     "base_uri": "https://localhost:8080/"
    },
    "id": "7U2670q-WLMN",
    "outputId": "e097c379-2ee3-416c-9366-dcd888760735"
   },
   "outputs": [
    {
     "data": {
      "text/plain": [
       "array([ 0.,  0.,  5., 13.,  9.,  1.,  0.,  0.,  0.,  0., 13., 15., 10.,\n",
       "       15.,  5.,  0.,  0.,  3., 15.,  2.,  0., 11.,  8.,  0.,  0.,  4.,\n",
       "       12.,  0.,  0.,  8.,  8.,  0.,  0.,  5.,  8.,  0.,  0.,  9.,  8.,\n",
       "        0.,  0.,  4., 11.,  0.,  1., 12.,  7.,  0.,  0.,  2., 14.,  5.,\n",
       "       10., 12.,  0.,  0.,  0.,  0.,  6., 13., 10.,  0.,  0.,  0.])"
      ]
     },
     "execution_count": 8,
     "metadata": {},
     "output_type": "execute_result"
    }
   ],
   "source": [
    "# RUN THIS CELL, OBSERVE\n",
    "# This is the flatten data that make up the very first image\n",
    "digits.data[0]"
   ]
  },
  {
   "cell_type": "code",
   "execution_count": 9,
   "metadata": {
    "colab": {
     "base_uri": "https://localhost:8080/"
    },
    "id": "pU0JuvmPUgDk",
    "outputId": "4d60c059-2fc2-4784-a6dc-ff1326fbd055"
   },
   "outputs": [
    {
     "data": {
      "text/plain": [
       "array([0, 1, 2, ..., 8, 9, 8])"
      ]
     },
     "execution_count": 9,
     "metadata": {},
     "output_type": "execute_result"
    }
   ],
   "source": [
    "# RUN THIS CELL, OBSERVE\n",
    "# This is a flat array that holds the labels (the \"answers\") for each image in the dataset\n",
    "# In this case, the first image is actually a \"0\", the last image is actually a \"8\"\n",
    "digits.target"
   ]
  },
  {
   "cell_type": "code",
   "execution_count": 10,
   "metadata": {
    "colab": {
     "base_uri": "https://localhost:8080/"
    },
    "id": "5z7TWzIZUhr-",
    "outputId": "d339c575-ff17-476b-fd4c-05ba566de086"
   },
   "outputs": [
    {
     "data": {
      "text/plain": [
       "array([0, 1, 2, 3, 4, 5, 6, 7, 8, 9])"
      ]
     },
     "execution_count": 10,
     "metadata": {},
     "output_type": "execute_result"
    }
   ],
   "source": [
    "# RUN THIS CELL, OBSERVE\n",
    "# All the classes for this dataset are here (numbers 0 to 9)\n",
    "digits.target_names"
   ]
  },
  {
   "cell_type": "code",
   "execution_count": 11,
   "metadata": {
    "colab": {
     "base_uri": "https://localhost:8080/"
    },
    "id": "iXLBIaeUZPxp",
    "outputId": "65f8bfc7-2b80-4263-8184-ffdce063a44b"
   },
   "outputs": [
    {
     "data": {
      "text/plain": [
       "array([[ 0.,  0.,  5., 13.,  9.,  1.,  0.,  0.],\n",
       "       [ 0.,  0., 13., 15., 10., 15.,  5.,  0.],\n",
       "       [ 0.,  3., 15.,  2.,  0., 11.,  8.,  0.],\n",
       "       [ 0.,  4., 12.,  0.,  0.,  8.,  8.,  0.],\n",
       "       [ 0.,  5.,  8.,  0.,  0.,  9.,  8.,  0.],\n",
       "       [ 0.,  4., 11.,  0.,  1., 12.,  7.,  0.],\n",
       "       [ 0.,  2., 14.,  5., 10., 12.,  0.,  0.],\n",
       "       [ 0.,  0.,  6., 13., 10.,  0.,  0.,  0.]])"
      ]
     },
     "execution_count": 11,
     "metadata": {},
     "output_type": "execute_result"
    }
   ],
   "source": [
    "# RUN THIS CELL, OBSERVE\n",
    "# This is the shaped array that make up the image of the first datapoint\n",
    "digits.images[0]"
   ]
  },
  {
   "cell_type": "code",
   "execution_count": 12,
   "metadata": {
    "colab": {
     "base_uri": "https://localhost:8080/",
     "height": 292
    },
    "id": "_pg7QXFLZrZj",
    "outputId": "f719c03e-d072-42a2-ef34-982b24752dcd"
   },
   "outputs": [
    {
     "data": {
      "text/plain": [
       "<matplotlib.image.AxesImage at 0x7fb32d0f42e0>"
      ]
     },
     "execution_count": 12,
     "metadata": {},
     "output_type": "execute_result"
    },
    {
     "data": {
      "image/png": "[encoded data removed]",
      "text/plain": [
       "<Figure size 480x480 with 1 Axes>"
      ]
     },
     "metadata": {},
     "output_type": "display_data"
    }
   ],
   "source": [
    "# RUN THIS CELL, OBSERVE\n",
    "# From the previous cell, the shaped array can be passed into matshow to display the first datapoint\n",
    "# As expected, it is a 0\n",
    "plt.matshow(digits.images[0])"
   ]
  },
  {
   "cell_type": "markdown",
   "metadata": {
    "id": "IbgvLkQzXayv"
   },
   "source": [
    "Write a function that will display the first n images (n is any positive integer) in the dataset. Be sure to include a title that states the label for each image. To test your function, display the first 5 images of the dataset.\n",
    "\n",
    "Hint 1: Use a for loop\n",
    "\n",
    "Hint 2: Check out plt.title\n"
   ]
  },
  {
   "cell_type": "code",
   "execution_count": 51,
   "metadata": {
    "id": "DrOR_GhTUrT6"
   },
   "outputs": [],
   "source": [
    "def firstn(n):\n",
    "    for i in range(0,n):\n",
    "        plt.matshow(digits.images[i])\n",
    "        title='target={0:d}'.format(digits.target[i])\n",
    "        plt.title(title)"
   ]
  },
  {
   "cell_type": "code",
   "execution_count": 52,
   "metadata": {
    "id": "NX5l47lNXY5o",
    "scrolled": true
   },
   "outputs": [
    {
     "data": {
      "image/png": "[encoded data removed]",
      "text/plain": [
       "<Figure size 480x480 with 1 Axes>"
      ]
     },
     "metadata": {},
     "output_type": "display_data"
    },
    {
     "data": {
      "image/png": "[encoded data removed]",
      "text/plain": [
       "<Figure size 480x480 with 1 Axes>"
      ]
     },
     "metadata": {},
     "output_type": "display_data"
    },
    {
     "data": {
      "image/png": "[encoded data removed]",
      "text/plain": [
       "<Figure size 480x480 with 1 Axes>"
      ]
     },
     "metadata": {},
     "output_type": "display_data"
    },
    {
     "data": {
      "image/png": "[encoded data removed]",
      "text/plain": [
       "<Figure size 480x480 with 1 Axes>"
      ]
     },
     "metadata": {},
     "output_type": "display_data"
    },
    {
     "data": {
      "image/png": "[encoded data removed]",
      "text/plain": [
       "<Figure size 480x480 with 1 Axes>"
      ]
     },
     "metadata": {},
     "output_type": "display_data"
    }
   ],
   "source": [
    "firstn(n=5)"
   ]
  },
  {
   "cell_type": "markdown",
   "metadata": {
    "id": "52w-Y1T743j_"
   },
   "source": [
    "# Constructing Training & Testing Dataset"
   ]
  },
  {
   "cell_type": "markdown",
   "metadata": {
    "id": "srwAQ-NMZct-"
   },
   "source": [
    "Create a training and testing dataset from the data obtained. "
   ]
  },
  {
   "cell_type": "code",
   "execution_count": 88,
   "metadata": {},
   "outputs": [],
   "source": [
    "X = digits.data\n",
    "Y = digits.target"
   ]
  },
  {
   "cell_type": "code",
   "execution_count": 89,
   "metadata": {
    "id": "T3byBFpJ45rv"
   },
   "outputs": [],
   "source": [
    "X_train, X_test, y_train, y_test = train_test_split(X, Y, test_size = .25, random_state = 3)"
   ]
  },
  {
   "cell_type": "markdown",
   "metadata": {
    "id": "k9OiZSQr46B-"
   },
   "source": [
    "# Create & Train Learning Model"
   ]
  },
  {
   "cell_type": "markdown",
   "metadata": {
    "id": "iCJG4gDlXupd"
   },
   "source": [
    "Create a logistic regression model. Feel free to experiment with different levels of regularization (different C parameters). \n",
    "\n",
    "Recall from lecture that C helps with \"overfitting\" problems when the model encounters unseen data (testing data).\n",
    "\n",
    "What can you observe using different levels of regularization? Any patterns? Try C = 1e-3, 0.01, 0.1, 1, 10, 100, 1e3, 1e5, 1e10.\n",
    "\n",
    "Hint: Use a for loop for convenience"
   ]
  },
  {
   "cell_type": "code",
   "execution_count": 87,
   "metadata": {
    "id": "2uci-77dBELC"
   },
   "outputs": [],
   "source": [
    "C = [1e-3, 0.01, 0.1, 1, 10 , 100, 1e3, 1e5, 1e10]"
   ]
  },
  {
   "cell_type": "code",
   "execution_count": 94,
   "metadata": {
    "id": "BqqwLYgd48z8"
   },
   "outputs": [
    {
     "name": "stdout",
     "output_type": "stream",
     "text": [
      "0.001 0.9555555555555556\n",
      "0.01 0.9622222222222222\n",
      "0.1 0.9577777777777777\n",
      "1 0.9511111111111111\n",
      "10 0.9533333333333334\n",
      "100 0.9511111111111111\n",
      "1000.0 0.9533333333333334\n",
      "100000.0 0.9444444444444444\n",
      "10000000000.0 0.9266666666666666\n"
     ]
    }
   ],
   "source": [
    "for c in C:\n",
    "    lr = LR(C=c)\n",
    "    model = lr.fit(X_train, y_train)\n",
    "    print(c,model.score(X_test,y_test))"
   ]
  },
  {
   "cell_type": "markdown",
   "metadata": {
    "id": "1W9plTyJAvi2"
   },
   "source": [
    "Using different levels of regularization, the accuracy of the logistic regression model varies. Trying different c values provided me with different accuracy scores. There is no explicit pattern, but the accuracy score increases as the c value increases, peaking at 0.01. "
   ]
  },
  {
   "cell_type": "markdown",
   "metadata": {
    "id": "s94Ndj_7gEBW"
   },
   "source": [
    "Recall in previous lectures/labs we have discussed about scaling and how scaling certain features (especially if there is a large range) could improve accuracy of models.\n",
    "\n"
   ]
  },
  {
   "cell_type": "code",
   "execution_count": 95,
   "metadata": {
    "colab": {
     "base_uri": "https://localhost:8080/",
     "height": 198
    },
    "id": "Ba_wpuaFgjCh",
    "outputId": "d70758da-86a2-4020-c59c-76b0d880e2f5"
   },
   "outputs": [
    {
     "data": {
      "text/plain": [
       "array([ 0.,  0.,  6., 12., 14.,  4.,  0.,  0.,  0.,  2., 15.,  2.,  1.,\n",
       "       15.,  0.,  0.,  0.,  2., 14.,  0.,  3., 16.,  2.,  0.,  0.,  0.,\n",
       "       13.,  5., 14., 14.,  6.,  0.,  0.,  0.,  2.,  8.,  4.,  7.,  9.,\n",
       "        0.,  0.,  0.,  0.,  0.,  0.,  9.,  9.,  0.,  0.,  0.,  5.,  0.,\n",
       "        5., 14.,  3.,  0.,  0.,  0.,  7., 13., 12.,  4.,  0.,  0.])"
      ]
     },
     "execution_count": 95,
     "metadata": {},
     "output_type": "execute_result"
    }
   ],
   "source": [
    "# RUN THIS CELL, OBSERVE\n",
    "# Note that the range of the data is from 0 to 16\n",
    "X_train[0]"
   ]
  },
  {
   "cell_type": "code",
   "execution_count": 96,
   "metadata": {
    "id": "oEyI1FMKksYo"
   },
   "outputs": [],
   "source": [
    "from sklearn.preprocessing import MinMaxScaler as MMS"
   ]
  },
  {
   "cell_type": "code",
   "execution_count": 97,
   "metadata": {
    "id": "gD8Eui4wk2Rp"
   },
   "outputs": [],
   "source": [
    "mms = MMS()"
   ]
  },
  {
   "cell_type": "code",
   "execution_count": 98,
   "metadata": {
    "colab": {
     "base_uri": "https://localhost:8080/",
     "height": 198
    },
    "id": "6ricjcLJk4NF",
    "outputId": "fe86fbfc-2125-4a90-8978-90c012bf7071",
    "scrolled": true
   },
   "outputs": [
    {
     "data": {
      "text/plain": [
       "array([[0.    , 0.    , 0.375 , ..., 0.25  , 0.    , 0.    ],\n",
       "       [0.    , 0.    , 0.625 , ..., 0.5   , 0.    , 0.    ],\n",
       "       [0.    , 0.    , 0.25  , ..., 0.9375, 0.375 , 0.    ],\n",
       "       ...,\n",
       "       [0.    , 0.    , 0.5   , ..., 0.25  , 0.    , 0.    ],\n",
       "       [0.    , 0.25  , 0.8125, ..., 0.75  , 0.75  , 0.0625],\n",
       "       [0.    , 0.    , 0.375 , ..., 0.5   , 0.    , 0.    ]])"
      ]
     },
     "execution_count": 98,
     "metadata": {},
     "output_type": "execute_result"
    }
   ],
   "source": [
    "# RUN THIS CELL, OBSERVE\n",
    "# After scaling with a minmax ratio, the range of the data is now from 0 to 1\n",
    "mms.fit_transform(X_train)"
   ]
  },
  {
   "cell_type": "markdown",
   "metadata": {
    "id": "k0Xww0Yyg_fW"
   },
   "source": [
    "Using the built-in minmax scaler, scale the training data and the testing data. Be sure to save the transformed version to a new variable (for example X_train_scaled and X_test_scaled).\n",
    "\n",
    "Then, train and test the model with the scaled versions of the data. Does the accuracy improve? (It should)"
   ]
  },
  {
   "cell_type": "code",
   "execution_count": 102,
   "metadata": {
    "id": "XPH3kcsrfo2F"
   },
   "outputs": [
    {
     "data": {
      "text/plain": [
       "0.9622222222222222"
      ]
     },
     "execution_count": 102,
     "metadata": {},
     "output_type": "execute_result"
    }
   ],
   "source": [
    "X_train_scaled = mms.fit_transform(X_train)\n",
    "X_test_scaled = mms.fit_transform(X_test)\n",
    "lr_scaled = LR()\n",
    "modelscaled = lr_scaled.fit(X_train_scaled, y_train)\n",
    "modelscaled.score(X_test_scaled,y_test)"
   ]
  },
  {
   "cell_type": "code",
   "execution_count": null,
   "metadata": {},
   "outputs": [],
   "source": [
    "#The accuracy did improve. "
   ]
  },
  {
   "cell_type": "markdown",
   "metadata": {
    "id": "_ibOdABchlgl"
   },
   "source": [
    "Using the scaled versions of the data, train and test models with varying C parameters. Print out the accuracy for each model. Use a for loop."
   ]
  },
  {
   "cell_type": "code",
   "execution_count": 103,
   "metadata": {
    "id": "xOxB5cpTH_mC",
    "scrolled": true
   },
   "outputs": [
    {
     "name": "stdout",
     "output_type": "stream",
     "text": [
      "0.001 0.7822222222222223\n",
      "0.01 0.9155555555555556\n",
      "0.1 0.9466666666666667\n",
      "1 0.9622222222222222\n",
      "10 0.9533333333333334\n",
      "100 0.9555555555555556\n",
      "1000.0 0.9511111111111111\n",
      "100000.0 0.9511111111111111\n",
      "10000000000.0 0.9222222222222223\n"
     ]
    }
   ],
   "source": [
    "for c in C:\n",
    "    lr = LR(C=c)\n",
    "    model = lr.fit(X_train_scaled, y_train)\n",
    "    print(c,model.score(X_test_scaled,y_test))"
   ]
  },
  {
   "cell_type": "markdown",
   "metadata": {
    "id": "ZHCqOO_T4947"
   },
   "source": [
    "# Accuracy Metrics"
   ]
  },
  {
   "cell_type": "markdown",
   "metadata": {
    "id": "soo6JJRFYZju"
   },
   "source": [
    "Display your model findings using a confusion matrix. At a glance, what can you conclude? State your observations. For example, are there certain classes that are easy to misclassify? What do you think contributes how samples are classified as?"
   ]
  },
  {
   "cell_type": "code",
   "execution_count": 104,
   "metadata": {
    "id": "tX6065Gs5Du8"
   },
   "outputs": [
    {
     "data": {
      "text/plain": [
       "<AxesSubplot: >"
      ]
     },
     "execution_count": 104,
     "metadata": {},
     "output_type": "execute_result"
    },
    {
     "data": {
      "image/png": "[encoded data removed]",
      "text/plain": [
       "<Figure size 640x480 with 2 Axes>"
      ]
     },
     "metadata": {},
     "output_type": "display_data"
    }
   ],
   "source": [
    "y_prediction =model.predict(X_test)\n",
    "cm = confusion_matrix(y_test,y_prediction)\n",
    "sns.heatmap(cm,annot=True,fmt='g')"
   ]
  },
  {
   "cell_type": "markdown",
   "metadata": {
    "id": "FZuMcVSIO1NK"
   },
   "source": [
    "At a glance, there seems to be few numbers of false positives and false negatives. For the most part, the classification model had true negatives or true positives. However there are high numbers of false positives between the classes of 1 and 4 and high numbers of false negatives between 8 and 9. Thus,these classes seem to be the most likely to be misclassified.  I think that the handwriting used, the similarities between different numbers, the complexity of the classification model, and the amount of data used all contribute to how the samples are classified. "
   ]
  }
 ],
 "metadata": {
  "colab": {
   "provenance": []
  },
  "kernelspec": {
   "display_name": "Python 3 (ipykernel)",
   "language": "python",
   "name": "python3"
  },
  "language_info": {
   "codemirror_mode": {
    "name": "ipython",
    "version": 3
   },
   "file_extension": ".py",
   "mimetype": "text/x-python",
   "name": "python",
   "nbconvert_exporter": "python",
   "pygments_lexer": "ipython3",
   "version": "3.10.6"
  }
 },
 "nbformat": 4,
 "nbformat_minor": 1
}
